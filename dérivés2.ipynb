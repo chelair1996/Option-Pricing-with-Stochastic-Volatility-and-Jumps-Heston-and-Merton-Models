{
 "cells": [
  {
   "cell_type": "markdown",
   "metadata": {
    "id": "djxCmh863Drb"
   },
   "source": [
    "# Step 1"
   ]
  },
  {
   "cell_type": "markdown",
   "metadata": {
    "id": "KYfn8IRJ3ONt"
   },
   "source": [
    "### 5"
   ]
  },
  {
   "cell_type": "code",
   "execution_count": 39,
   "metadata": {
    "executionInfo": {
     "elapsed": 6,
     "status": "ok",
     "timestamp": 1693947873706,
     "user": {
      "displayName": "Alessio Incelli",
      "userId": "09767466605209185024"
     },
     "user_tz": -120
    },
    "id": "OaIl5lGLt4Wr"
   },
   "outputs": [],
   "source": [
    "import matplotlib.pyplot as plt\n",
    "import numpy as np\n",
    "import scipy.stats as ss\n",
    "\n",
    "def SDE_vol(v0, kappa, theta, sigma, T, M, Ite, rand, row, cho_matrix):\n",
    "    dt = T / M  # T = maturity, M = number of time steps\n",
    "    v = np.zeros((M + 1, Ite), dtype=np.float)\n",
    "    v[0] = v0\n",
    "    sdt = np.sqrt(dt)  # Sqrt of dt\n",
    "    for t in range(1, M + 1):\n",
    "        ran = np.dot(cho_matrix, rand[:, t])\n",
    "        v[t] = np.maximum(\n",
    "            0,\n",
    "            v[t - 1]\n",
    "            + kappa * (theta - v[t - 1]) * dt\n",
    "            + np.sqrt(v[t - 1]) * sigma * ran[row] * sdt,\n",
    "        )\n",
    "    return v\n",
    "\n",
    "def Heston_paths(S0, r, v, row, cho_matrix):\n",
    "    S = np.zeros((M + 1, Ite), dtype=float)\n",
    "    S[0] = S0\n",
    "    sdt = np.sqrt(dt)\n",
    "    for t in range(1, M + 1, 1):\n",
    "        ran = np.dot(cho_matrix, rand[:, t])\n",
    "        S[t] = S[t - 1] * np.exp((r - 0.5 * v[t]) * dt + np.sqrt(v[t]) * ran[row] * sdt)\n",
    "\n",
    "    return S\n",
    "\n",
    "def random_number_gen(M, Ite):\n",
    "    rand = np.random.standard_normal((2, M + 1, Ite))\n",
    "    return rand"
   ]
  },
  {
   "cell_type": "code",
   "execution_count": 40,
   "metadata": {
    "colab": {
     "base_uri": "https://localhost:8080/",
     "height": 0
    },
    "executionInfo": {
     "elapsed": 1944,
     "status": "ok",
     "timestamp": 1693947879018,
     "user": {
      "displayName": "Alessio Incelli",
      "userId": "09767466605209185024"
     },
     "user_tz": -120
    },
    "id": "3k0U0BqL2hYR",
    "outputId": "2e81e116-91bf-4a63-eec3-7e033ce9138f"
   },
   "outputs": [
    {
     "name": "stderr",
     "output_type": "stream",
     "text": [
      "<ipython-input-40-8605e2cce7c6>:19: DeprecationWarning: `np.float` is a deprecated alias for the builtin `float`. To silence this warning, use `float` by itself. Doing this will not modify any behavior and is safe. If you specifically wanted the numpy scalar type, use `np.float64` here.\n",
      "Deprecated in NumPy 1.20; for more details and guidance: https://numpy.org/devdocs/release/1.20.0-notes.html#deprecations\n",
      "  covariance_matrix = np.zeros((2, 2), dtype=np.float)\n",
      "<ipython-input-39-34efa61912b0>:7: DeprecationWarning: `np.float` is a deprecated alias for the builtin `float`. To silence this warning, use `float` by itself. Doing this will not modify any behavior and is safe. If you specifically wanted the numpy scalar type, use `np.float64` here.\n",
      "Deprecated in NumPy 1.20; for more details and guidance: https://numpy.org/devdocs/release/1.20.0-notes.html#deprecations\n",
      "  v = np.zeros((M + 1, Ite), dtype=np.float)\n"
     ]
    }
   ],
   "source": [
    "v0 = 0.032\n",
    "kappa_v = 1.85\n",
    "sigma_v = 0.35\n",
    "theta_v = 0.045\n",
    "rho = -0.3\n",
    "\n",
    "S0 = 80  # Current underlying asset price\n",
    "r = 0.055  # Risk-free rate\n",
    "M0 = 252  # Number of time steps in a year (we decided to go for daily time steps)\n",
    "T = 3/12  # Number of years\n",
    "M = int(M0 * T)  # Total time steps\n",
    "Ite = 100000  # Number of simulations\n",
    "dt = T / M  # Length of time step\n",
    "\n",
    "# Generating random numbers from standard normal\n",
    "rand = random_number_gen(M, Ite)\n",
    "\n",
    "# Covariance Matrix\n",
    "covariance_matrix = np.zeros((2, 2), dtype=np.float)\n",
    "covariance_matrix[0] = [1.0, rho]\n",
    "covariance_matrix[1] = [rho, 1.0]\n",
    "cho_matrix = np.linalg.cholesky(covariance_matrix)\n",
    "\n",
    "# Volatility process paths\n",
    "V = SDE_vol(v0, kappa_v, theta_v, sigma_v, T, M, Ite, rand, 1, cho_matrix)\n",
    "\n",
    "# Underlying price process paths\n",
    "S = Heston_paths(S0, r, V, 0, cho_matrix)"
   ]
  },
  {
   "cell_type": "code",
   "execution_count": 41,
   "metadata": {
    "executionInfo": {
     "elapsed": 249,
     "status": "ok",
     "timestamp": 1693947881928,
     "user": {
      "displayName": "Alessio Incelli",
      "userId": "09767466605209185024"
     },
     "user_tz": -120
    },
    "id": "hNmWPrcnt-uh"
   },
   "outputs": [],
   "source": [
    "def heston_call_mc(S, K, r, T, t):\n",
    "    payoff = np.maximum(0, S[-1, :] - K)\n",
    "\n",
    "    average = np.mean(payoff)\n",
    "\n",
    "    return np.exp(-r * (T - t)) * average\n",
    "\n",
    "def heston_put_mc(S, K, r, T, t):\n",
    "    payoff = np.maximum(0, K - S[-1, :])\n",
    "\n",
    "    average = np.mean(payoff)\n",
    "\n",
    "    return np.exp(-r * (T - t)) * average"
   ]
  },
  {
   "cell_type": "code",
   "execution_count": 42,
   "metadata": {
    "colab": {
     "base_uri": "https://localhost:8080/",
     "height": 0
    },
    "executionInfo": {
     "elapsed": 363,
     "status": "ok",
     "timestamp": 1693947888031,
     "user": {
      "displayName": "Alessio Incelli",
      "userId": "09767466605209185024"
     },
     "user_tz": -120
    },
    "id": "DaJoNK7XSPFp",
    "outputId": "c96cf94d-a5b0-4faf-8780-41b15871bd1d"
   },
   "outputs": [
    {
     "name": "stdout",
     "output_type": "stream",
     "text": [
      "European Call Price under Heston:  2.86\n"
     ]
    }
   ],
   "source": [
    "np.random.seed(2)\n",
    "print(\"European Call Price under Heston: \", round(heston_call_mc(S, 80, 0.055, 3/12, 0),2))"
   ]
  },
  {
   "cell_type": "code",
   "execution_count": 43,
   "metadata": {
    "colab": {
     "base_uri": "https://localhost:8080/",
     "height": 0
    },
    "executionInfo": {
     "elapsed": 268,
     "status": "ok",
     "timestamp": 1693947889834,
     "user": {
      "displayName": "Alessio Incelli",
      "userId": "09767466605209185024"
     },
     "user_tz": -120
    },
    "id": "y5Uduf_xS_-f",
    "outputId": "467062f8-a025-420d-db61-2616584647e4"
   },
   "outputs": [
    {
     "name": "stdout",
     "output_type": "stream",
     "text": [
      "European Put Price under Heston:  2.82\n"
     ]
    }
   ],
   "source": [
    "np.random.seed(2)\n",
    "print(\"European Put Price under Heston: \", round(heston_put_mc(S, 80, 0.055, 3/12, 0),2))"
   ]
  },
  {
   "cell_type": "markdown",
   "metadata": {
    "id": "4TjkabdI3QcV"
   },
   "source": [
    "### 6"
   ]
  },
  {
   "cell_type": "code",
   "execution_count": 44,
   "metadata": {
    "colab": {
     "base_uri": "https://localhost:8080/",
     "height": 0
    },
    "executionInfo": {
     "elapsed": 1195,
     "status": "ok",
     "timestamp": 1693947893164,
     "user": {
      "displayName": "Alessio Incelli",
      "userId": "09767466605209185024"
     },
     "user_tz": -120
    },
    "id": "-q8yFh_i3R2i",
    "outputId": "46c36e0a-4aca-4ec1-e3bc-79e03f041aa2"
   },
   "outputs": [
    {
     "name": "stderr",
     "output_type": "stream",
     "text": [
      "<ipython-input-44-978618e41ee9>:19: DeprecationWarning: `np.float` is a deprecated alias for the builtin `float`. To silence this warning, use `float` by itself. Doing this will not modify any behavior and is safe. If you specifically wanted the numpy scalar type, use `np.float64` here.\n",
      "Deprecated in NumPy 1.20; for more details and guidance: https://numpy.org/devdocs/release/1.20.0-notes.html#deprecations\n",
      "  covariance_matrix = np.zeros((2, 2), dtype=np.float)\n",
      "<ipython-input-39-34efa61912b0>:7: DeprecationWarning: `np.float` is a deprecated alias for the builtin `float`. To silence this warning, use `float` by itself. Doing this will not modify any behavior and is safe. If you specifically wanted the numpy scalar type, use `np.float64` here.\n",
      "Deprecated in NumPy 1.20; for more details and guidance: https://numpy.org/devdocs/release/1.20.0-notes.html#deprecations\n",
      "  v = np.zeros((M + 1, Ite), dtype=np.float)\n"
     ]
    }
   ],
   "source": [
    "v0 = 0.032\n",
    "kappa_v = 1.85\n",
    "sigma_v = 0.35\n",
    "theta_v = 0.045\n",
    "rho = -0.7\n",
    "\n",
    "S0 = 80  # Current underlying asset price\n",
    "r = 0.055  # Risk-free rate\n",
    "M0 = 252  # Number of time steps in a year (we decided to go for daily time steps)\n",
    "T = 3/12  # Number of years\n",
    "M = int(M0 * T)  # Total time steps\n",
    "Ite = 100000  # Number of simulations\n",
    "dt = T / M  # Length of time step\n",
    "\n",
    "# Generating random numbers from standard normal\n",
    "rand = random_number_gen(M, Ite)\n",
    "\n",
    "# Covariance Matrix\n",
    "covariance_matrix = np.zeros((2, 2), dtype=np.float)\n",
    "covariance_matrix[0] = [1.0, rho]\n",
    "covariance_matrix[1] = [rho, 1.0]\n",
    "cho_matrix = np.linalg.cholesky(covariance_matrix)\n",
    "\n",
    "# Volatility process paths\n",
    "V = SDE_vol(v0, kappa_v, theta_v, sigma_v, T, M, Ite, rand, 1, cho_matrix)\n",
    "\n",
    "# Underlying price process paths\n",
    "S = Heston_paths(S0, r, V, 0, cho_matrix)"
   ]
  },
  {
   "cell_type": "code",
   "execution_count": 45,
   "metadata": {
    "colab": {
     "base_uri": "https://localhost:8080/",
     "height": 0
    },
    "executionInfo": {
     "elapsed": 354,
     "status": "ok",
     "timestamp": 1693947895969,
     "user": {
      "displayName": "Alessio Incelli",
      "userId": "09767466605209185024"
     },
     "user_tz": -120
    },
    "id": "id7DjjgItsE6",
    "outputId": "282604a7-95e0-4a80-ae64-372394c00c95"
   },
   "outputs": [
    {
     "name": "stdout",
     "output_type": "stream",
     "text": [
      "European Call Price under Heston:  2.11\n"
     ]
    }
   ],
   "source": [
    "np.random.seed(2)\n",
    "print(\"European Call Price under Heston: \", round(heston_call_mc(S, 80, 0.055, 3/12, 0),2))"
   ]
  },
  {
   "cell_type": "code",
   "execution_count": 46,
   "metadata": {
    "colab": {
     "base_uri": "https://localhost:8080/",
     "height": 0
    },
    "executionInfo": {
     "elapsed": 7,
     "status": "ok",
     "timestamp": 1693947897353,
     "user": {
      "displayName": "Alessio Incelli",
      "userId": "09767466605209185024"
     },
     "user_tz": -120
    },
    "id": "kGFjpGLots1N",
    "outputId": "8424a007-b957-4dc8-ea30-3f60326c10ee"
   },
   "outputs": [
    {
     "name": "stdout",
     "output_type": "stream",
     "text": [
      "European Put Price under Heston:  3.44\n"
     ]
    }
   ],
   "source": [
    "np.random.seed(2)\n",
    "print(\"European Put Price under Heston: \", round(heston_put_mc(S, 80, 0.055, 3/12, 0),2))"
   ]
  },
  {
   "cell_type": "markdown",
   "metadata": {
    "id": "2JtBUPyn3SV1"
   },
   "source": [
    "### 7"
   ]
  },
  {
   "cell_type": "markdown",
   "metadata": {
    "id": "tmCEcLFw0z7y"
   },
   "source": [
    "DELTA"
   ]
  },
  {
   "cell_type": "markdown",
   "metadata": {
    "id": "R8QuekVK0U4q"
   },
   "source": [
    "Correlation equal to -0.3"
   ]
  },
  {
   "cell_type": "code",
   "execution_count": 47,
   "metadata": {
    "colab": {
     "base_uri": "https://localhost:8080/",
     "height": 0
    },
    "executionInfo": {
     "elapsed": 1094,
     "status": "ok",
     "timestamp": 1693947900528,
     "user": {
      "displayName": "Alessio Incelli",
      "userId": "09767466605209185024"
     },
     "user_tz": -120
    },
    "id": "lkZXkuDtx_ol",
    "outputId": "bce1a208-7bd8-4afd-ddba-106132e6ff5e"
   },
   "outputs": [
    {
     "name": "stderr",
     "output_type": "stream",
     "text": [
      "<ipython-input-47-82ac8dd420f2>:20: DeprecationWarning: `np.float` is a deprecated alias for the builtin `float`. To silence this warning, use `float` by itself. Doing this will not modify any behavior and is safe. If you specifically wanted the numpy scalar type, use `np.float64` here.\n",
      "Deprecated in NumPy 1.20; for more details and guidance: https://numpy.org/devdocs/release/1.20.0-notes.html#deprecations\n",
      "  covariance_matrix = np.zeros((2, 2), dtype=np.float)\n",
      "<ipython-input-39-34efa61912b0>:7: DeprecationWarning: `np.float` is a deprecated alias for the builtin `float`. To silence this warning, use `float` by itself. Doing this will not modify any behavior and is safe. If you specifically wanted the numpy scalar type, use `np.float64` here.\n",
      "Deprecated in NumPy 1.20; for more details and guidance: https://numpy.org/devdocs/release/1.20.0-notes.html#deprecations\n",
      "  v = np.zeros((M + 1, Ite), dtype=np.float)\n"
     ]
    }
   ],
   "source": [
    "v0 = 0.032\n",
    "kappa_v = 1.85\n",
    "sigma_v = 0.35\n",
    "theta_v = 0.045\n",
    "rho = -0.3\n",
    "\n",
    "S0 = 80  # Current underlying asset price\n",
    "delta_S = 0.01 # 1% increase in current underlying asset price\n",
    "r = 0.055  # Risk-free rate\n",
    "M0 = 252  # Number of time steps in a year (we decided to go for daily time steps)\n",
    "T = 3/12  # Number of years\n",
    "M = int(M0 * T)  # Total time steps\n",
    "Ite = 100000  # Number of simulations\n",
    "dt = T / M  # Length of time step\n",
    "\n",
    "# Generating random numbers from standard normal\n",
    "rand = random_number_gen(M, Ite)\n",
    "\n",
    "# Covariance Matrix\n",
    "covariance_matrix = np.zeros((2, 2), dtype=np.float)\n",
    "covariance_matrix[0] = [1.0, rho]\n",
    "covariance_matrix[1] = [rho, 1.0]\n",
    "cho_matrix = np.linalg.cholesky(covariance_matrix)\n",
    "\n",
    "# Volatility process paths\n",
    "V = SDE_vol(v0, kappa_v, theta_v, sigma_v, T, M, Ite, rand, 1, cho_matrix)\n",
    "\n",
    "# Underlying price process paths\n",
    "S = Heston_paths(S0 + delta_S, r, V, 0, cho_matrix)"
   ]
  },
  {
   "cell_type": "code",
   "execution_count": 48,
   "metadata": {
    "executionInfo": {
     "elapsed": 3,
     "status": "ok",
     "timestamp": 1693947904003,
     "user": {
      "displayName": "Alessio Incelli",
      "userId": "09767466605209185024"
     },
     "user_tz": -120
    },
    "id": "RYMB_dh-3Toe"
   },
   "outputs": [],
   "source": [
    "def delta_hest_call_mc(S, K, r, T, t, delta_S):\n",
    "\n",
    "    np.random.seed(2)\n",
    "    original_price = heston_call_mc(S, K, r, T, t)\n",
    "    new_price = heston_call_mc(S + delta_S, K, r, T, t)\n",
    "    delta = (new_price - original_price) / delta_S\n",
    "    return delta"
   ]
  },
  {
   "cell_type": "code",
   "execution_count": 49,
   "metadata": {
    "colab": {
     "base_uri": "https://localhost:8080/",
     "height": 0
    },
    "executionInfo": {
     "elapsed": 2,
     "status": "ok",
     "timestamp": 1693947905404,
     "user": {
      "displayName": "Alessio Incelli",
      "userId": "09767466605209185024"
     },
     "user_tz": -120
    },
    "id": "dUT3jZOfyox9",
    "outputId": "e9e827f9-313d-4c8c-b199-b4a2e8350ffb"
   },
   "outputs": [
    {
     "name": "stdout",
     "output_type": "stream",
     "text": [
      "Delta of the Call Option: 0.5\n"
     ]
    }
   ],
   "source": [
    "print(\"Delta of the Call Option:\", round(delta_hest_call_mc(S, 80, 0.055, 3/12, 0, 0.01),2))"
   ]
  },
  {
   "cell_type": "code",
   "execution_count": 50,
   "metadata": {
    "executionInfo": {
     "elapsed": 4,
     "status": "ok",
     "timestamp": 1693947907219,
     "user": {
      "displayName": "Alessio Incelli",
      "userId": "09767466605209185024"
     },
     "user_tz": -120
    },
    "id": "bInhsPhtyoru"
   },
   "outputs": [],
   "source": [
    "def delta_hest_put_mc(S, K, r, T, t, delta_S):\n",
    "\n",
    "    np.random.seed(2)\n",
    "    original_price = heston_put_mc(S, K, r, T, t)\n",
    "    new_price = heston_put_mc(S + delta_S, K, r, T, t)\n",
    "    delta = (new_price - original_price) / delta_S\n",
    "    return delta"
   ]
  },
  {
   "cell_type": "code",
   "execution_count": 51,
   "metadata": {
    "colab": {
     "base_uri": "https://localhost:8080/",
     "height": 0
    },
    "executionInfo": {
     "elapsed": 546,
     "status": "ok",
     "timestamp": 1693947909324,
     "user": {
      "displayName": "Alessio Incelli",
      "userId": "09767466605209185024"
     },
     "user_tz": -120
    },
    "id": "XbcZRpxLyoku",
    "outputId": "cc997e79-a98a-4555-f1e4-e3ccab8cfff2"
   },
   "outputs": [
    {
     "name": "stdout",
     "output_type": "stream",
     "text": [
      "Delta of the Put Option: -0.48\n"
     ]
    }
   ],
   "source": [
    "print(\"Delta of the Put Option:\", round(delta_hest_put_mc(S, 80, 0.055, 3/12, 0, 0.01),2))"
   ]
  },
  {
   "cell_type": "markdown",
   "metadata": {
    "id": "yLWXeTRt0YSZ"
   },
   "source": [
    "Correlation equal to -0.7"
   ]
  },
  {
   "cell_type": "code",
   "execution_count": 52,
   "metadata": {
    "colab": {
     "base_uri": "https://localhost:8080/",
     "height": 0
    },
    "executionInfo": {
     "elapsed": 1134,
     "status": "ok",
     "timestamp": 1693947912817,
     "user": {
      "displayName": "Alessio Incelli",
      "userId": "09767466605209185024"
     },
     "user_tz": -120
    },
    "id": "tzBzH7F60afs",
    "outputId": "e91ded4b-73c0-402e-80c7-cfa2ee03740e"
   },
   "outputs": [
    {
     "name": "stderr",
     "output_type": "stream",
     "text": [
      "<ipython-input-52-978618e41ee9>:19: DeprecationWarning: `np.float` is a deprecated alias for the builtin `float`. To silence this warning, use `float` by itself. Doing this will not modify any behavior and is safe. If you specifically wanted the numpy scalar type, use `np.float64` here.\n",
      "Deprecated in NumPy 1.20; for more details and guidance: https://numpy.org/devdocs/release/1.20.0-notes.html#deprecations\n",
      "  covariance_matrix = np.zeros((2, 2), dtype=np.float)\n",
      "<ipython-input-39-34efa61912b0>:7: DeprecationWarning: `np.float` is a deprecated alias for the builtin `float`. To silence this warning, use `float` by itself. Doing this will not modify any behavior and is safe. If you specifically wanted the numpy scalar type, use `np.float64` here.\n",
      "Deprecated in NumPy 1.20; for more details and guidance: https://numpy.org/devdocs/release/1.20.0-notes.html#deprecations\n",
      "  v = np.zeros((M + 1, Ite), dtype=np.float)\n"
     ]
    }
   ],
   "source": [
    "v0 = 0.032\n",
    "kappa_v = 1.85\n",
    "sigma_v = 0.35\n",
    "theta_v = 0.045\n",
    "rho = -0.7\n",
    "\n",
    "S0 = 80  # Current underlying asset price\n",
    "r = 0.055  # Risk-free rate\n",
    "M0 = 252  # Number of time steps in a year (we decided to go for daily time steps)\n",
    "T = 3/12  # Number of years\n",
    "M = int(M0 * T)  # Total time steps\n",
    "Ite = 100000  # Number of simulations\n",
    "dt = T / M  # Length of time step\n",
    "\n",
    "# Generating random numbers from standard normal\n",
    "rand = random_number_gen(M, Ite)\n",
    "\n",
    "# Covariance Matrix\n",
    "covariance_matrix = np.zeros((2, 2), dtype=np.float)\n",
    "covariance_matrix[0] = [1.0, rho]\n",
    "covariance_matrix[1] = [rho, 1.0]\n",
    "cho_matrix = np.linalg.cholesky(covariance_matrix)\n",
    "\n",
    "# Volatility process paths\n",
    "V = SDE_vol(v0, kappa_v, theta_v, sigma_v, T, M, Ite, rand, 1, cho_matrix)\n",
    "\n",
    "# Underlying price process paths\n",
    "S = Heston_paths(S0, r, V, 0, cho_matrix)"
   ]
  },
  {
   "cell_type": "code",
   "execution_count": 53,
   "metadata": {
    "colab": {
     "base_uri": "https://localhost:8080/",
     "height": 0
    },
    "executionInfo": {
     "elapsed": 6,
     "status": "ok",
     "timestamp": 1693947916295,
     "user": {
      "displayName": "Alessio Incelli",
      "userId": "09767466605209185024"
     },
     "user_tz": -120
    },
    "id": "0Ve7Hx0j0jjm",
    "outputId": "8ab656da-6c42-4c0e-a3e4-47dc47a4d67b"
   },
   "outputs": [
    {
     "name": "stdout",
     "output_type": "stream",
     "text": [
      "Delta of the Call Option: 0.46\n"
     ]
    }
   ],
   "source": [
    "np.random.seed(2)\n",
    "print(\"Delta of the Call Option:\", round(delta_hest_call_mc(S, 80, 0.055, 3/12, 0, 0.01),2))"
   ]
  },
  {
   "cell_type": "code",
   "execution_count": 54,
   "metadata": {
    "colab": {
     "base_uri": "https://localhost:8080/",
     "height": 0
    },
    "executionInfo": {
     "elapsed": 268,
     "status": "ok",
     "timestamp": 1693947918986,
     "user": {
      "displayName": "Alessio Incelli",
      "userId": "09767466605209185024"
     },
     "user_tz": -120
    },
    "id": "ae1ZN6ev0jPj",
    "outputId": "46b724b0-7afc-48ee-f730-ef768f6582ac"
   },
   "outputs": [
    {
     "name": "stdout",
     "output_type": "stream",
     "text": [
      "Delta of the Put Option: -0.53\n"
     ]
    }
   ],
   "source": [
    "np.random.seed(2)\n",
    "print(\"Delta of the Put Option:\", round(delta_hest_put_mc(S, 80, 0.055, 3/12, 0, 0.01),2))"
   ]
  },
  {
   "cell_type": "markdown",
   "metadata": {
    "id": "Tk_wfJRe02dS"
   },
   "source": [
    "GAMMA"
   ]
  },
  {
   "cell_type": "markdown",
   "metadata": {
    "id": "VwAZul1n038n"
   },
   "source": [
    "Correlation equal to -0.3"
   ]
  },
  {
   "cell_type": "code",
   "execution_count": 55,
   "metadata": {
    "colab": {
     "base_uri": "https://localhost:8080/",
     "height": 0
    },
    "executionInfo": {
     "elapsed": 1424,
     "status": "ok",
     "timestamp": 1693947922902,
     "user": {
      "displayName": "Alessio Incelli",
      "userId": "09767466605209185024"
     },
     "user_tz": -120
    },
    "id": "s4USXkSyUsmU",
    "outputId": "ff697354-7c74-40f5-d1c1-b30ce3108e1a"
   },
   "outputs": [
    {
     "name": "stderr",
     "output_type": "stream",
     "text": [
      "<ipython-input-55-1a75472f6876>:21: DeprecationWarning: `np.float` is a deprecated alias for the builtin `float`. To silence this warning, use `float` by itself. Doing this will not modify any behavior and is safe. If you specifically wanted the numpy scalar type, use `np.float64` here.\n",
      "Deprecated in NumPy 1.20; for more details and guidance: https://numpy.org/devdocs/release/1.20.0-notes.html#deprecations\n",
      "  covariance_matrix = np.zeros((2, 2), dtype=np.float)\n",
      "<ipython-input-39-34efa61912b0>:7: DeprecationWarning: `np.float` is a deprecated alias for the builtin `float`. To silence this warning, use `float` by itself. Doing this will not modify any behavior and is safe. If you specifically wanted the numpy scalar type, use `np.float64` here.\n",
      "Deprecated in NumPy 1.20; for more details and guidance: https://numpy.org/devdocs/release/1.20.0-notes.html#deprecations\n",
      "  v = np.zeros((M + 1, Ite), dtype=np.float)\n"
     ]
    }
   ],
   "source": [
    "v0 = 0.032\n",
    "kappa_v = 1.85\n",
    "sigma_v = 0.35\n",
    "theta_v = 0.045\n",
    "rho = -0.3\n",
    "\n",
    "S0 = 80  # Current underlying asset price\n",
    "delta_S = 0.01 # 1% increase in current underlying asset price\n",
    "delta_S_2 = 0.02 # 2% additional increase in current underlying asset price\n",
    "r = 0.055  # Risk-free rate\n",
    "M0 = 252  # Number of time steps in a year (we decided to go for daily time steps)\n",
    "T = 3/12  # Number of years\n",
    "M = int(M0 * T)  # Total time steps\n",
    "Ite = 100000  # Number of simulations\n",
    "dt = T / M  # Length of time step\n",
    "\n",
    "# Generating random numbers from standard normal\n",
    "rand = random_number_gen(M, Ite)\n",
    "\n",
    "# Covariance Matrix\n",
    "covariance_matrix = np.zeros((2, 2), dtype=np.float)\n",
    "covariance_matrix[0] = [1.0, rho]\n",
    "covariance_matrix[1] = [rho, 1.0]\n",
    "cho_matrix = np.linalg.cholesky(covariance_matrix)\n",
    "\n",
    "# Volatility process paths\n",
    "V = SDE_vol(v0, kappa_v, theta_v, sigma_v, T, M, Ite, rand, 1, cho_matrix)\n",
    "\n",
    "# Underlying price process paths\n",
    "S = Heston_paths(S0 + delta_S, r, V, 0, cho_matrix)"
   ]
  },
  {
   "cell_type": "code",
   "execution_count": 56,
   "metadata": {
    "executionInfo": {
     "elapsed": 386,
     "status": "ok",
     "timestamp": 1693947926218,
     "user": {
      "displayName": "Alessio Incelli",
      "userId": "09767466605209185024"
     },
     "user_tz": -120
    },
    "id": "h6Cj6ga_7wLR"
   },
   "outputs": [],
   "source": [
    "def gamma_hest_call_mc(S, K, r, T, t, delta_S):\n",
    "\n",
    "    np.random.seed(2)\n",
    "    delta1 = delta_hest_call_mc(S, K, r, T, t, delta_S)\n",
    "    delta2 = delta_hest_call_mc(S + delta_S, K, r, T, t, delta_S)\n",
    "    gamma = (delta2 - delta1) / delta_S\n",
    "    return gamma"
   ]
  },
  {
   "cell_type": "code",
   "execution_count": 57,
   "metadata": {
    "colab": {
     "base_uri": "https://localhost:8080/",
     "height": 0
    },
    "executionInfo": {
     "elapsed": 456,
     "status": "ok",
     "timestamp": 1693947927769,
     "user": {
      "displayName": "Alessio Incelli",
      "userId": "09767466605209185024"
     },
     "user_tz": -120
    },
    "id": "e3bG71337y1i",
    "outputId": "c092298a-9294-4812-8ecc-187e1748bbdb"
   },
   "outputs": [
    {
     "name": "stdout",
     "output_type": "stream",
     "text": [
      "Gamma of the Call Option: 0.06\n"
     ]
    }
   ],
   "source": [
    "np.random.seed(2)\n",
    "print(\"Gamma of the Call Option:\", round(gamma_hest_call_mc(S, 80, 0.055, 3/12, 0, 0.01),2))"
   ]
  },
  {
   "cell_type": "code",
   "execution_count": 58,
   "metadata": {
    "executionInfo": {
     "elapsed": 409,
     "status": "ok",
     "timestamp": 1693947931753,
     "user": {
      "displayName": "Alessio Incelli",
      "userId": "09767466605209185024"
     },
     "user_tz": -120
    },
    "id": "SE5gQOuAWZVn"
   },
   "outputs": [],
   "source": [
    "def gamma_hest_put_mc(S, K, r, T, t, delta_S):\n",
    "\n",
    "    np.random.seed(2)\n",
    "    delta1 = delta_hest_put_mc(S, K, r, T, t, delta_S)\n",
    "    delta2 = delta_hest_put_mc(S + delta_S, K, r, T, t, delta_S)\n",
    "    gamma = (delta2 - delta1) / delta_S\n",
    "    return gamma"
   ]
  },
  {
   "cell_type": "code",
   "execution_count": 59,
   "metadata": {
    "colab": {
     "base_uri": "https://localhost:8080/",
     "height": 0
    },
    "executionInfo": {
     "elapsed": 417,
     "status": "ok",
     "timestamp": 1693947934315,
     "user": {
      "displayName": "Alessio Incelli",
      "userId": "09767466605209185024"
     },
     "user_tz": -120
    },
    "id": "MGNg_GkhWZKt",
    "outputId": "e10ea595-47f4-4442-fb3b-69411167d087"
   },
   "outputs": [
    {
     "name": "stdout",
     "output_type": "stream",
     "text": [
      "Gamma of the Put Option: 0.06\n"
     ]
    }
   ],
   "source": [
    "np.random.seed(2)\n",
    "print(\"Gamma of the Put Option:\", round(gamma_hest_put_mc(S, 80, 0.055, 3/12, 0, 0.01),2))"
   ]
  },
  {
   "cell_type": "markdown",
   "metadata": {
    "id": "fv0g7-5cKqlW"
   },
   "source": [
    "Correlation equal to -0.7"
   ]
  },
  {
   "cell_type": "code",
   "execution_count": 60,
   "metadata": {
    "colab": {
     "base_uri": "https://localhost:8080/",
     "height": 0
    },
    "executionInfo": {
     "elapsed": 1249,
     "status": "ok",
     "timestamp": 1693948026494,
     "user": {
      "displayName": "Alessio Incelli",
      "userId": "09767466605209185024"
     },
     "user_tz": -120
    },
    "id": "iBQf-VhrKrms",
    "outputId": "7420151a-88e7-4c3f-ac4e-637bfdaca20e"
   },
   "outputs": [
    {
     "name": "stderr",
     "output_type": "stream",
     "text": [
      "<ipython-input-60-2195b80c38c0>:21: DeprecationWarning: `np.float` is a deprecated alias for the builtin `float`. To silence this warning, use `float` by itself. Doing this will not modify any behavior and is safe. If you specifically wanted the numpy scalar type, use `np.float64` here.\n",
      "Deprecated in NumPy 1.20; for more details and guidance: https://numpy.org/devdocs/release/1.20.0-notes.html#deprecations\n",
      "  covariance_matrix = np.zeros((2, 2), dtype=np.float)\n",
      "<ipython-input-39-34efa61912b0>:7: DeprecationWarning: `np.float` is a deprecated alias for the builtin `float`. To silence this warning, use `float` by itself. Doing this will not modify any behavior and is safe. If you specifically wanted the numpy scalar type, use `np.float64` here.\n",
      "Deprecated in NumPy 1.20; for more details and guidance: https://numpy.org/devdocs/release/1.20.0-notes.html#deprecations\n",
      "  v = np.zeros((M + 1, Ite), dtype=np.float)\n"
     ]
    }
   ],
   "source": [
    "v0 = 0.032\n",
    "kappa_v = 1.85\n",
    "sigma_v = 0.35\n",
    "theta_v = 0.045\n",
    "rho = -0.7\n",
    "\n",
    "S0 = 80  # Current underlying asset price\n",
    "delta_S = 0.01 # 1% increase in current underlying asset price\n",
    "delta_S_2 = 0.02 # 2% additional increase in current underlying asset price\n",
    "r = 0.055  # Risk-free rate\n",
    "M0 = 252  # Number of time steps in a year (we decided to go for daily time steps)\n",
    "T = 3/12  # Number of years\n",
    "M = int(M0 * T)  # Total time steps\n",
    "Ite = 100000  # Number of simulations\n",
    "dt = T / M  # Length of time step\n",
    "\n",
    "# Generating random numbers from standard normal\n",
    "rand = random_number_gen(M, Ite)\n",
    "\n",
    "# Covariance Matrix\n",
    "covariance_matrix = np.zeros((2, 2), dtype=np.float)\n",
    "covariance_matrix[0] = [1.0, rho]\n",
    "covariance_matrix[1] = [rho, 1.0]\n",
    "cho_matrix = np.linalg.cholesky(covariance_matrix)\n",
    "\n",
    "# Volatility process paths\n",
    "V = SDE_vol(v0, kappa_v, theta_v, sigma_v, T, M, Ite, rand, 1, cho_matrix)\n",
    "\n",
    "# Underlying price process paths\n",
    "S = Heston_paths(S0 + delta_S, r, V, 0, cho_matrix)"
   ]
  },
  {
   "cell_type": "code",
   "execution_count": 61,
   "metadata": {
    "colab": {
     "base_uri": "https://localhost:8080/",
     "height": 0
    },
    "executionInfo": {
     "elapsed": 410,
     "status": "ok",
     "timestamp": 1693948039176,
     "user": {
      "displayName": "Alessio Incelli",
      "userId": "09767466605209185024"
     },
     "user_tz": -120
    },
    "id": "0EwxkNcYK6mI",
    "outputId": "2bf7929d-1a50-4afb-f327-a6b17422a1c9"
   },
   "outputs": [
    {
     "name": "stdout",
     "output_type": "stream",
     "text": [
      "Gamma of the Call Option: 0.07\n"
     ]
    }
   ],
   "source": [
    "np.random.seed(2)\n",
    "print(\"Gamma of the Call Option:\", round(gamma_hest_call_mc(S, 80, 0.055, 3/12, 0, 0.01),2))"
   ]
  },
  {
   "cell_type": "code",
   "execution_count": 62,
   "metadata": {
    "colab": {
     "base_uri": "https://localhost:8080/",
     "height": 0
    },
    "executionInfo": {
     "elapsed": 234,
     "status": "ok",
     "timestamp": 1693948050777,
     "user": {
      "displayName": "Alessio Incelli",
      "userId": "09767466605209185024"
     },
     "user_tz": -120
    },
    "id": "SQ7XXs1gK6eH",
    "outputId": "969bd561-1418-43ae-a913-4bd10eb53458"
   },
   "outputs": [
    {
     "name": "stdout",
     "output_type": "stream",
     "text": [
      "Gamma of the Put Option: 0.07\n"
     ]
    }
   ],
   "source": [
    "np.random.seed(2)\n",
    "print(\"Gamma of the Put Option:\", round(gamma_hest_put_mc(S, 80, 0.055, 3/12, 0, 0.01),2))"
   ]
  },
  {
   "cell_type": "markdown",
   "metadata": {
    "id": "es9781LU3V5m"
   },
   "source": [
    "### 8"
   ]
  },
  {
   "cell_type": "code",
   "execution_count": 63,
   "metadata": {
    "executionInfo": {
     "elapsed": 1383,
     "status": "ok",
     "timestamp": 1693948154070,
     "user": {
      "displayName": "Alessio Incelli",
      "userId": "09767466605209185024"
     },
     "user_tz": -120
    },
    "id": "oUfICIut3Y3B"
   },
   "outputs": [],
   "source": [
    "import matplotlib.pyplot as plt\n",
    "import numpy as np\n",
    "import scipy.stats as ss\n",
    "\n",
    "np.random.seed(2)\n",
    "lamb = 0.75  # Lambda of the model\n",
    "mu = -0.5  # Mu\n",
    "delta = 0.22  # Delta\n",
    "\n",
    "r = 0.055  # Risk-free rate\n",
    "sigma = 0.35  # Volatility\n",
    "T = 3/12  # Maturity/time period (in years)\n",
    "S0 = 80  # Current Stock Price\n",
    "\n",
    "Ite = 100000  # Number of simulations (paths)\n",
    "M0 = 252  # Number of time steps in a year (we decided to go for daily time steps)\n",
    "M = int(M0 * T)  # Total time steps\n",
    "dt = T / M  # Time-step\n",
    "\n",
    "SM = np.zeros((M + 1, Ite))\n",
    "SM[0] = S0\n",
    "\n",
    "# rj\n",
    "rj = lamb * (np.exp(mu + 0.5 * delta**2) - 1)\n",
    "\n",
    "# Random numbers\n",
    "z1 = np.random.standard_normal((M + 1, Ite))\n",
    "z2 = np.random.standard_normal((M + 1, Ite))\n",
    "y = np.random.poisson(lamb * dt, (M + 1, Ite))\n",
    "\n",
    "for t in range(1, M + 1):\n",
    "    SM[t] = SM[t - 1] * (\n",
    "        np.exp((r - rj - 0.5 * sigma**2) * dt + sigma * np.sqrt(dt) * z1[t])\n",
    "        + (np.exp(mu + delta * z2[t]) - 1) * y[t]\n",
    "    )\n",
    "    SM[t] = np.maximum(\n",
    "        SM[t], 0.00001\n",
    "    )  # To ensure that the price never goes below zero!"
   ]
  },
  {
   "cell_type": "code",
   "execution_count": 64,
   "metadata": {
    "executionInfo": {
     "elapsed": 6,
     "status": "ok",
     "timestamp": 1693948157862,
     "user": {
      "displayName": "Alessio Incelli",
      "userId": "09767466605209185024"
     },
     "user_tz": -120
    },
    "id": "EEHlR_PzaSes"
   },
   "outputs": [],
   "source": [
    "def merton_call_mc(S, K, r, T, t):\n",
    "    payoff = np.maximum(0, S[-1, :] - K)\n",
    "\n",
    "    average = np.mean(payoff)\n",
    "\n",
    "    return np.exp(-r * (T - t)) * average"
   ]
  },
  {
   "cell_type": "code",
   "execution_count": 65,
   "metadata": {
    "colab": {
     "base_uri": "https://localhost:8080/",
     "height": 0
    },
    "executionInfo": {
     "elapsed": 5,
     "status": "ok",
     "timestamp": 1693948159700,
     "user": {
      "displayName": "Alessio Incelli",
      "userId": "09767466605209185024"
     },
     "user_tz": -120
    },
    "id": "ReHJbiUvaXVw",
    "outputId": "acd26cf8-4dcf-4663-ed50-b415ff87c999"
   },
   "outputs": [
    {
     "name": "stdout",
     "output_type": "stream",
     "text": [
      "European Call Price under Merton:  8.26\n"
     ]
    }
   ],
   "source": [
    "print(\"European Call Price under Merton: \", round(merton_call_mc(SM, 80, r, T, 0),2))"
   ]
  },
  {
   "cell_type": "code",
   "execution_count": 66,
   "metadata": {
    "executionInfo": {
     "elapsed": 7,
     "status": "ok",
     "timestamp": 1693948161757,
     "user": {
      "displayName": "Alessio Incelli",
      "userId": "09767466605209185024"
     },
     "user_tz": -120
    },
    "id": "ZTAJHtgna9q2"
   },
   "outputs": [],
   "source": [
    "def merton_put_mc(S, K, r, T, t):\n",
    "    payoff = np.maximum(0, K - S[-1, :])\n",
    "\n",
    "    average = np.mean(payoff)\n",
    "\n",
    "    return np.exp(-r * (T - t)) * average"
   ]
  },
  {
   "cell_type": "code",
   "execution_count": 67,
   "metadata": {
    "colab": {
     "base_uri": "https://localhost:8080/",
     "height": 0
    },
    "executionInfo": {
     "elapsed": 408,
     "status": "ok",
     "timestamp": 1693948164301,
     "user": {
      "displayName": "Alessio Incelli",
      "userId": "09767466605209185024"
     },
     "user_tz": -120
    },
    "id": "H6GOww4-a9ep",
    "outputId": "6c34d615-f318-48f9-cb5e-99f51ee7d627"
   },
   "outputs": [
    {
     "name": "stdout",
     "output_type": "stream",
     "text": [
      "European Put Price under Merton:  7.19\n"
     ]
    }
   ],
   "source": [
    "print(\"European Put Price under Merton: \", round(merton_put_mc(SM, 80, r, T, 0),2))"
   ]
  },
  {
   "cell_type": "markdown",
   "metadata": {
    "id": "QpVYeAeT3ZXS"
   },
   "source": [
    "### 9"
   ]
  },
  {
   "cell_type": "code",
   "execution_count": 68,
   "metadata": {
    "executionInfo": {
     "elapsed": 1026,
     "status": "ok",
     "timestamp": 1693948168705,
     "user": {
      "displayName": "Alessio Incelli",
      "userId": "09767466605209185024"
     },
     "user_tz": -120
    },
    "id": "8XJJCrwX3agL"
   },
   "outputs": [],
   "source": [
    "np.random.seed(2)\n",
    "lamb = 0.25  # Lambda of the model\n",
    "mu = -0.5  # Mu\n",
    "delta = 0.22  # Delta\n",
    "\n",
    "r = 0.055  # Risk-free rate\n",
    "sigma = 0.35  # Volatility\n",
    "T = 3/12  # Maturity/time period (in years)\n",
    "S0 = 80  # Current Stock Price\n",
    "\n",
    "Ite = 100000  # Number of simulations (paths)\n",
    "M0 = 252  # Number of time steps in a year (we decided to go for daily time steps)\n",
    "M = int(M0 * T)  # Total time steps\n",
    "dt = T / M  # Time-step\n",
    "\n",
    "SM = np.zeros((M + 1, Ite))\n",
    "SM[0] = S0\n",
    "\n",
    "# rj\n",
    "rj = lamb * (np.exp(mu + 0.5 * delta**2) - 1)\n",
    "\n",
    "# Random numbers\n",
    "z1 = np.random.standard_normal((M + 1, Ite))\n",
    "z2 = np.random.standard_normal((M + 1, Ite))\n",
    "y = np.random.poisson(lamb * dt, (M + 1, Ite))\n",
    "\n",
    "for t in range(1, M + 1):\n",
    "    SM[t] = SM[t - 1] * (\n",
    "        np.exp((r - rj - 0.5 * sigma**2) * dt + sigma * np.sqrt(dt) * z1[t])\n",
    "        + (np.exp(mu + delta * z2[t]) - 1) * y[t]\n",
    "    )\n",
    "    SM[t] = np.maximum(\n",
    "        SM[t], 0.00001\n",
    "    )  # To ensure that the price never goes below zero!"
   ]
  },
  {
   "cell_type": "code",
   "execution_count": 69,
   "metadata": {
    "colab": {
     "base_uri": "https://localhost:8080/",
     "height": 0
    },
    "executionInfo": {
     "elapsed": 2,
     "status": "ok",
     "timestamp": 1693948170128,
     "user": {
      "displayName": "Alessio Incelli",
      "userId": "09767466605209185024"
     },
     "user_tz": -120
    },
    "id": "MnhEJ020bRKa",
    "outputId": "0a26de60-c53d-4332-f912-88d9919ff43f"
   },
   "outputs": [
    {
     "name": "stdout",
     "output_type": "stream",
     "text": [
      "European Call Price under Merton:  6.79\n"
     ]
    }
   ],
   "source": [
    "print(\"European Call Price under Merton: \", round(merton_call_mc(SM, 80, r, T, 0),2))"
   ]
  },
  {
   "cell_type": "code",
   "execution_count": 70,
   "metadata": {
    "colab": {
     "base_uri": "https://localhost:8080/",
     "height": 0
    },
    "executionInfo": {
     "elapsed": 2,
     "status": "ok",
     "timestamp": 1693948171176,
     "user": {
      "displayName": "Alessio Incelli",
      "userId": "09767466605209185024"
     },
     "user_tz": -120
    },
    "id": "o4v36RHObRAS",
    "outputId": "7612bce9-4beb-403f-f59f-76948ce06d9a"
   },
   "outputs": [
    {
     "name": "stdout",
     "output_type": "stream",
     "text": [
      "European Put Price under Merton:  5.74\n"
     ]
    }
   ],
   "source": [
    "print(\"European Put Price under Merton: \", round(merton_put_mc(SM, 80, r, T, 0),2))"
   ]
  },
  {
   "cell_type": "markdown",
   "metadata": {
    "id": "0r_BkOJK3axj"
   },
   "source": [
    "### 10"
   ]
  },
  {
   "cell_type": "code",
   "execution_count": 71,
   "metadata": {
    "executionInfo": {
     "elapsed": 474,
     "status": "ok",
     "timestamp": 1693948178841,
     "user": {
      "displayName": "Alessio Incelli",
      "userId": "09767466605209185024"
     },
     "user_tz": -120
    },
    "id": "E_l-9xcYfErq"
   },
   "outputs": [],
   "source": [
    "def delta_call_mc(S, K, r, T, t, delta_S):\n",
    "\n",
    "    np.random.seed(2)\n",
    "    original_price = merton_call_mc(S, K, r, T, t)\n",
    "    new_price = merton_call_mc(S + delta_S, K, r, T, t)\n",
    "    delta = (new_price - original_price) / delta_S\n",
    "    return delta\n",
    "\n",
    "def delta_put_mc(S, K, r, T, t, delta_S):\n",
    "\n",
    "    np.random.seed(2)\n",
    "    original_price = merton_put_mc(S, K, r, T, t)\n",
    "    new_price = merton_put_mc(S + delta_S, K, r, T, t)\n",
    "    delta = (new_price - original_price) / delta_S\n",
    "    return delta"
   ]
  },
  {
   "cell_type": "code",
   "execution_count": 72,
   "metadata": {
    "colab": {
     "base_uri": "https://localhost:8080/",
     "height": 0
    },
    "executionInfo": {
     "elapsed": 412,
     "status": "ok",
     "timestamp": 1693948180379,
     "user": {
      "displayName": "Alessio Incelli",
      "userId": "09767466605209185024"
     },
     "user_tz": -120
    },
    "id": "dN9v2q0e3cTo",
    "outputId": "5638e9ca-96f7-45e0-b1c1-bc3cf40d10e0"
   },
   "outputs": [
    {
     "name": "stdout",
     "output_type": "stream",
     "text": [
      "Delta of the Call Option: 0.51\n",
      "Delta of the Put Option: -0.47\n"
     ]
    }
   ],
   "source": [
    "print(\"Delta of the Call Option:\", round(delta_call_mc(SM, 80, 0.055, 3/12, 0, 0.01),2))\n",
    "print(\"Delta of the Put Option:\", round(delta_put_mc(SM, 80, 0.055, 3/12, 0, 0.01),2))"
   ]
  },
  {
   "cell_type": "code",
   "execution_count": 73,
   "metadata": {
    "executionInfo": {
     "elapsed": 354,
     "status": "ok",
     "timestamp": 1693948183071,
     "user": {
      "displayName": "Alessio Incelli",
      "userId": "09767466605209185024"
     },
     "user_tz": -120
    },
    "id": "eMDAyKenf35Y"
   },
   "outputs": [],
   "source": [
    "def gamma_call_mc(S, K, r, T, t, delta_S):\n",
    "\n",
    "    np.random.seed(2)\n",
    "    detla1 = delta_call_mc(S, K, r, T, t, delta_S)\n",
    "    delta2 = delta_call_mc(S + delta_S, K, r, T, t, delta_S)\n",
    "    gamma = (delta2 - detla1) / delta_S\n",
    "    return gamma\n",
    "\n",
    "def gamma_put_mc(S, K, r, T, t, delta_S):\n",
    "\n",
    "    np.random.seed(2)\n",
    "    detla1 = delta_put_mc(S, K, r, T, t, delta_S)\n",
    "    delta2 = delta_put_mc(S + delta_S, K, r, T, t, delta_S)\n",
    "    gamma = (delta2 - detla1) / delta_S\n",
    "    return gamma"
   ]
  },
  {
   "cell_type": "code",
   "execution_count": 74,
   "metadata": {
    "colab": {
     "base_uri": "https://localhost:8080/",
     "height": 0
    },
    "executionInfo": {
     "elapsed": 444,
     "status": "ok",
     "timestamp": 1693948184679,
     "user": {
      "displayName": "Alessio Incelli",
      "userId": "09767466605209185024"
     },
     "user_tz": -120
    },
    "id": "B3MzhLkLgEJZ",
    "outputId": "c1000791-8ec1-4efa-a479-34d5209f3581"
   },
   "outputs": [
    {
     "name": "stdout",
     "output_type": "stream",
     "text": [
      "Gamma of the Call Option: 0.02\n",
      "Gamma of the Put Option: 0.02\n"
     ]
    }
   ],
   "source": [
    "print(\"Gamma of the Call Option:\", round(gamma_call_mc(SM, 80, 0.055, 3/12, 0, 0.01),2))\n",
    "print(\"Gamma of the Put Option:\", round(gamma_put_mc(SM, 80, 0.055, 3/12, 0, 0.01),2))"
   ]
  },
  {
   "cell_type": "markdown",
   "metadata": {
    "id": "tC53uXj83eP7"
   },
   "source": [
    "### 11"
   ]
  },
  {
   "cell_type": "code",
   "execution_count": null,
   "metadata": {
    "colab": {
     "base_uri": "https://localhost:8080/"
    },
    "executionInfo": {
     "elapsed": 6,
     "status": "ok",
     "timestamp": 1693934551596,
     "user": {
      "displayName": "Alessio Incelli",
      "userId": "09767466605209185024"
     },
     "user_tz": -120
    },
    "id": "zHKAZG1_3iI4",
    "outputId": "22031c93-7a3e-491c-9e16-94682ba53b83"
   },
   "outputs": [
    {
     "data": {
      "text/plain": [
       "False"
      ]
     },
     "execution_count": 32,
     "metadata": {},
     "output_type": "execute_result"
    }
   ],
   "source": [
    "# Put-Call parity under Heston model and Monte-Carlo simulation with rho = -0.3\n",
    "round(2.88 + 80 * np.exp(-0.055 * (3/12)), 2) == round(80 + 2.82, 2)"
   ]
  },
  {
   "cell_type": "code",
   "execution_count": null,
   "metadata": {
    "colab": {
     "base_uri": "https://localhost:8080/"
    },
    "executionInfo": {
     "elapsed": 506,
     "status": "ok",
     "timestamp": 1693934690265,
     "user": {
      "displayName": "Alessio Incelli",
      "userId": "09767466605209185024"
     },
     "user_tz": -120
    },
    "id": "y0Kn1ZCiX91u",
    "outputId": "f264f535-f723-4b36-8e1d-45a7aab9a232"
   },
   "outputs": [
    {
     "data": {
      "text/plain": [
       "False"
      ]
     },
     "execution_count": 34,
     "metadata": {},
     "output_type": "execute_result"
    }
   ],
   "source": [
    "# Put-Call parity under Heston model and Monte-Carlo simulation with rho = -0.7\n",
    "round(2.11 + 80 * np.exp(-0.055 * (3/12)), 2) == round(80 + 3.44, 2)"
   ]
  },
  {
   "cell_type": "code",
   "execution_count": 75,
   "metadata": {
    "colab": {
     "base_uri": "https://localhost:8080/",
     "height": 0
    },
    "executionInfo": {
     "elapsed": 416,
     "status": "ok",
     "timestamp": 1693948297723,
     "user": {
      "displayName": "Alessio Incelli",
      "userId": "09767466605209185024"
     },
     "user_tz": -120
    },
    "id": "e9Emw19sLlk7",
    "outputId": "b93748fb-1874-47db-c52b-b9f9a7dd3464"
   },
   "outputs": [
    {
     "data": {
      "text/plain": [
       "False"
      ]
     },
     "execution_count": 75,
     "metadata": {},
     "output_type": "execute_result"
    }
   ],
   "source": [
    "# Put-Call parity under Merton model with jump intensity parameter = 0.75\n",
    "round(8.26 + 80 * np.exp(-0.055 * (3/12)), 2) == round(80 + 7.19, 2)"
   ]
  },
  {
   "cell_type": "code",
   "execution_count": 76,
   "metadata": {
    "colab": {
     "base_uri": "https://localhost:8080/",
     "height": 0
    },
    "executionInfo": {
     "elapsed": 375,
     "status": "ok",
     "timestamp": 1693948336333,
     "user": {
      "displayName": "Alessio Incelli",
      "userId": "09767466605209185024"
     },
     "user_tz": -120
    },
    "id": "TczyUvs7Llds",
    "outputId": "0053d24f-73a4-4f37-9ebc-8e14f25ad07f"
   },
   "outputs": [
    {
     "data": {
      "text/plain": [
       "False"
      ]
     },
     "execution_count": 76,
     "metadata": {},
     "output_type": "execute_result"
    }
   ],
   "source": [
    "# Put-Call parity under Merton model with jump intensity parameter = 0.25\n",
    "round(6.79 + 80 * np.exp(-0.055 * (3/12)), 2) == round(80 + 5.74, 2)"
   ]
  },
  {
   "cell_type": "markdown",
   "metadata": {
    "id": "aMTDrD9e3il2"
   },
   "source": [
    "### 12"
   ]
  },
  {
   "cell_type": "code",
   "execution_count": 79,
   "metadata": {
    "colab": {
     "base_uri": "https://localhost:8080/",
     "height": 0
    },
    "executionInfo": {
     "elapsed": 386,
     "status": "ok",
     "timestamp": 1693948801396,
     "user": {
      "displayName": "Alessio Incelli",
      "userId": "09767466605209185024"
     },
     "user_tz": -120
    },
    "id": "CV1toIkyMUaI",
    "outputId": "e3aaec36-a36c-4c2d-aa8e-9099cdcce4a1"
   },
   "outputs": [
    {
     "name": "stdout",
     "output_type": "stream",
     "text": [
      "List of strikes is [94.11764706 88.88888889 84.21052632 80.         76.19047619 72.72727273\n",
      " 69.56521739]\n"
     ]
    }
   ],
   "source": [
    "# Strike prices needed\n",
    "moneyness = np.linspace(0.85, 1.15, 7)\n",
    "strikes = np.zeros(7)\n",
    "for i in range(len(moneyness)):\n",
    "    strikes[i] = S0/moneyness[i]\n",
    "\n",
    "print('List of strikes is', strikes)"
   ]
  },
  {
   "cell_type": "markdown",
   "metadata": {
    "id": "ahw7XvW4Y37m"
   },
   "source": [
    "HESTON"
   ]
  },
  {
   "cell_type": "code",
   "execution_count": 80,
   "metadata": {
    "colab": {
     "base_uri": "https://localhost:8080/",
     "height": 0
    },
    "executionInfo": {
     "elapsed": 1167,
     "status": "ok",
     "timestamp": 1693948948583,
     "user": {
      "displayName": "Alessio Incelli",
      "userId": "09767466605209185024"
     },
     "user_tz": -120
    },
    "id": "PvWgGAJiY6W6",
    "outputId": "9da0df6a-a9b2-41c1-d26c-cf09e912461b"
   },
   "outputs": [
    {
     "name": "stderr",
     "output_type": "stream",
     "text": [
      "<ipython-input-80-8605e2cce7c6>:19: DeprecationWarning: `np.float` is a deprecated alias for the builtin `float`. To silence this warning, use `float` by itself. Doing this will not modify any behavior and is safe. If you specifically wanted the numpy scalar type, use `np.float64` here.\n",
      "Deprecated in NumPy 1.20; for more details and guidance: https://numpy.org/devdocs/release/1.20.0-notes.html#deprecations\n",
      "  covariance_matrix = np.zeros((2, 2), dtype=np.float)\n",
      "<ipython-input-39-34efa61912b0>:7: DeprecationWarning: `np.float` is a deprecated alias for the builtin `float`. To silence this warning, use `float` by itself. Doing this will not modify any behavior and is safe. If you specifically wanted the numpy scalar type, use `np.float64` here.\n",
      "Deprecated in NumPy 1.20; for more details and guidance: https://numpy.org/devdocs/release/1.20.0-notes.html#deprecations\n",
      "  v = np.zeros((M + 1, Ite), dtype=np.float)\n"
     ]
    }
   ],
   "source": [
    "v0 = 0.032\n",
    "kappa_v = 1.85\n",
    "sigma_v = 0.35\n",
    "theta_v = 0.045\n",
    "rho = -0.3\n",
    "\n",
    "S0 = 80  # Current underlying asset price\n",
    "r = 0.055  # Risk-free rate\n",
    "M0 = 252  # Number of time steps in a year (we decided to go for daily time steps)\n",
    "T = 3/12  # Number of years\n",
    "M = int(M0 * T)  # Total time steps\n",
    "Ite = 100000  # Number of simulations\n",
    "dt = T / M  # Length of time step\n",
    "\n",
    "# Generating random numbers from standard normal\n",
    "rand = random_number_gen(M, Ite)\n",
    "\n",
    "# Covariance Matrix\n",
    "covariance_matrix = np.zeros((2, 2), dtype=np.float)\n",
    "covariance_matrix[0] = [1.0, rho]\n",
    "covariance_matrix[1] = [rho, 1.0]\n",
    "cho_matrix = np.linalg.cholesky(covariance_matrix)\n",
    "\n",
    "# Volatility process paths\n",
    "V = SDE_vol(v0, kappa_v, theta_v, sigma_v, T, M, Ite, rand, 1, cho_matrix)\n",
    "\n",
    "# Underlying price process paths\n",
    "S = Heston_paths(S0, r, V, 0, cho_matrix)"
   ]
  },
  {
   "cell_type": "markdown",
   "metadata": {
    "id": "VuiY_mlPO8is"
   },
   "source": [
    "CALLS"
   ]
  },
  {
   "cell_type": "code",
   "execution_count": 81,
   "metadata": {
    "colab": {
     "base_uri": "https://localhost:8080/",
     "height": 0
    },
    "executionInfo": {
     "elapsed": 448,
     "status": "ok",
     "timestamp": 1693949000703,
     "user": {
      "displayName": "Alessio Incelli",
      "userId": "09767466605209185024"
     },
     "user_tz": -120
    },
    "id": "IsTLxSfPOc3m",
    "outputId": "2791097b-0af5-4243-c292-80dc865198ff"
   },
   "outputs": [
    {
     "name": "stdout",
     "output_type": "stream",
     "text": [
      "European Call Price under Heston:  0.1\n"
     ]
    }
   ],
   "source": [
    "np.random.seed(2)\n",
    "print(\"European Call Price under Heston: \", round(heston_call_mc(S, strikes[0], 0.055, 3/12, 0),2))"
   ]
  },
  {
   "cell_type": "code",
   "execution_count": 82,
   "metadata": {
    "colab": {
     "base_uri": "https://localhost:8080/",
     "height": 0
    },
    "executionInfo": {
     "elapsed": 455,
     "status": "ok",
     "timestamp": 1693949025002,
     "user": {
      "displayName": "Alessio Incelli",
      "userId": "09767466605209185024"
     },
     "user_tz": -120
    },
    "id": "X1EEIhTLOr4v",
    "outputId": "5fb27d3c-92bb-4481-8add-63be3435dbb7"
   },
   "outputs": [
    {
     "name": "stdout",
     "output_type": "stream",
     "text": [
      "European Call Price under Heston:  0.4\n"
     ]
    }
   ],
   "source": [
    "np.random.seed(2)\n",
    "print(\"European Call Price under Heston: \", round(heston_call_mc(S, strikes[1], 0.055, 3/12, 0),2))"
   ]
  },
  {
   "cell_type": "code",
   "execution_count": 83,
   "metadata": {
    "colab": {
     "base_uri": "https://localhost:8080/",
     "height": 0
    },
    "executionInfo": {
     "elapsed": 252,
     "status": "ok",
     "timestamp": 1693949033798,
     "user": {
      "displayName": "Alessio Incelli",
      "userId": "09767466605209185024"
     },
     "user_tz": -120
    },
    "id": "CR6FzUgqOuVk",
    "outputId": "bf610903-974b-4a80-c672-93f037ac21b8"
   },
   "outputs": [
    {
     "name": "stdout",
     "output_type": "stream",
     "text": [
      "European Call Price under Heston:  1.23\n"
     ]
    }
   ],
   "source": [
    "np.random.seed(2)\n",
    "print(\"European Call Price under Heston: \", round(heston_call_mc(S, strikes[2], 0.055, 3/12, 0),2))"
   ]
  },
  {
   "cell_type": "code",
   "execution_count": 84,
   "metadata": {
    "colab": {
     "base_uri": "https://localhost:8080/",
     "height": 0
    },
    "executionInfo": {
     "elapsed": 443,
     "status": "ok",
     "timestamp": 1693949043393,
     "user": {
      "displayName": "Alessio Incelli",
      "userId": "09767466605209185024"
     },
     "user_tz": -120
    },
    "id": "uNCoNUKVOwfI",
    "outputId": "231280f4-3ba5-4699-8cd6-17d7de59db70"
   },
   "outputs": [
    {
     "name": "stdout",
     "output_type": "stream",
     "text": [
      "European Call Price under Heston:  2.86\n"
     ]
    }
   ],
   "source": [
    "np.random.seed(2)\n",
    "print(\"European Call Price under Heston: \", round(heston_call_mc(S, strikes[3], 0.055, 3/12, 0),2))"
   ]
  },
  {
   "cell_type": "code",
   "execution_count": 85,
   "metadata": {
    "colab": {
     "base_uri": "https://localhost:8080/",
     "height": 0
    },
    "executionInfo": {
     "elapsed": 10,
     "status": "ok",
     "timestamp": 1693949055100,
     "user": {
      "displayName": "Alessio Incelli",
      "userId": "09767466605209185024"
     },
     "user_tz": -120
    },
    "id": "6ojcHLtZOzlu",
    "outputId": "91962e28-71b0-4858-8a6e-abb0ab55255b"
   },
   "outputs": [
    {
     "name": "stdout",
     "output_type": "stream",
     "text": [
      "European Call Price under Heston:  5.17\n"
     ]
    }
   ],
   "source": [
    "np.random.seed(2)\n",
    "print(\"European Call Price under Heston: \", round(heston_call_mc(S, strikes[4], 0.055, 3/12, 0),2))"
   ]
  },
  {
   "cell_type": "code",
   "execution_count": 86,
   "metadata": {
    "colab": {
     "base_uri": "https://localhost:8080/",
     "height": 0
    },
    "executionInfo": {
     "elapsed": 6,
     "status": "ok",
     "timestamp": 1693949061527,
     "user": {
      "displayName": "Alessio Incelli",
      "userId": "09767466605209185024"
     },
     "user_tz": -120
    },
    "id": "Ex8RG6hoOzdj",
    "outputId": "fedcffab-e883-4405-ffc9-8006a947f85a"
   },
   "outputs": [
    {
     "name": "stdout",
     "output_type": "stream",
     "text": [
      "European Call Price under Heston:  7.85\n"
     ]
    }
   ],
   "source": [
    "np.random.seed(2)\n",
    "print(\"European Call Price under Heston: \", round(heston_call_mc(S, strikes[5], 0.055, 3/12, 0),2))"
   ]
  },
  {
   "cell_type": "code",
   "execution_count": 87,
   "metadata": {
    "colab": {
     "base_uri": "https://localhost:8080/",
     "height": 0
    },
    "executionInfo": {
     "elapsed": 408,
     "status": "ok",
     "timestamp": 1693949067660,
     "user": {
      "displayName": "Alessio Incelli",
      "userId": "09767466605209185024"
     },
     "user_tz": -120
    },
    "id": "kMUavkUcOzI3",
    "outputId": "4ca2c1e7-ce30-47e9-ea69-37c0651c792d"
   },
   "outputs": [
    {
     "name": "stdout",
     "output_type": "stream",
     "text": [
      "European Call Price under Heston:  10.62\n"
     ]
    }
   ],
   "source": [
    "np.random.seed(2)\n",
    "print(\"European Call Price under Heston: \", round(heston_call_mc(S, strikes[6], 0.055, 3/12, 0),2))"
   ]
  },
  {
   "cell_type": "markdown",
   "metadata": {
    "id": "ozPnQOWaO_RK"
   },
   "source": [
    "PUTS"
   ]
  },
  {
   "cell_type": "code",
   "execution_count": 88,
   "metadata": {
    "colab": {
     "base_uri": "https://localhost:8080/",
     "height": 0
    },
    "executionInfo": {
     "elapsed": 2,
     "status": "ok",
     "timestamp": 1693949136990,
     "user": {
      "displayName": "Alessio Incelli",
      "userId": "09767466605209185024"
     },
     "user_tz": -120
    },
    "id": "6eiZA4ZwPAS6",
    "outputId": "755798fe-cc3e-4177-b8ce-4b253cee9c13"
   },
   "outputs": [
    {
     "name": "stdout",
     "output_type": "stream",
     "text": [
      "European Put Price under Heston:  13.99\n"
     ]
    }
   ],
   "source": [
    "np.random.seed(2)\n",
    "print(\"European Put Price under Heston: \", round(heston_put_mc(S, strikes[0], 0.055, 3/12, 0),2))"
   ]
  },
  {
   "cell_type": "code",
   "execution_count": 89,
   "metadata": {
    "colab": {
     "base_uri": "https://localhost:8080/",
     "height": 0
    },
    "executionInfo": {
     "elapsed": 8,
     "status": "ok",
     "timestamp": 1693949146327,
     "user": {
      "displayName": "Alessio Incelli",
      "userId": "09767466605209185024"
     },
     "user_tz": -120
    },
    "id": "AdMrJ1d_PBJ2",
    "outputId": "3bcaf806-590b-4846-a251-4907127af326"
   },
   "outputs": [
    {
     "name": "stdout",
     "output_type": "stream",
     "text": [
      "European Put Price under Heston:  9.13\n"
     ]
    }
   ],
   "source": [
    "np.random.seed(2)\n",
    "print(\"European Put Price under Heston: \", round(heston_put_mc(S, strikes[1], 0.055, 3/12, 0),2))"
   ]
  },
  {
   "cell_type": "code",
   "execution_count": 90,
   "metadata": {
    "colab": {
     "base_uri": "https://localhost:8080/",
     "height": 0
    },
    "executionInfo": {
     "elapsed": 280,
     "status": "ok",
     "timestamp": 1693949152353,
     "user": {
      "displayName": "Alessio Incelli",
      "userId": "09767466605209185024"
     },
     "user_tz": -120
    },
    "id": "X86IY_jrPBDR",
    "outputId": "02afac15-d017-4131-833c-64a40ac798aa"
   },
   "outputs": [
    {
     "name": "stdout",
     "output_type": "stream",
     "text": [
      "European Put Price under Heston:  5.35\n"
     ]
    }
   ],
   "source": [
    "np.random.seed(2)\n",
    "print(\"European Put Price under Heston: \", round(heston_put_mc(S, strikes[2], 0.055, 3/12, 0),2))"
   ]
  },
  {
   "cell_type": "code",
   "execution_count": 91,
   "metadata": {
    "colab": {
     "base_uri": "https://localhost:8080/",
     "height": 0
    },
    "executionInfo": {
     "elapsed": 7,
     "status": "ok",
     "timestamp": 1693949158505,
     "user": {
      "displayName": "Alessio Incelli",
      "userId": "09767466605209185024"
     },
     "user_tz": -120
    },
    "id": "qHJp11bCPA8J",
    "outputId": "830679eb-fc48-4440-dc92-579a26076304"
   },
   "outputs": [
    {
     "name": "stdout",
     "output_type": "stream",
     "text": [
      "European Put Price under Heston:  2.82\n"
     ]
    }
   ],
   "source": [
    "np.random.seed(2)\n",
    "print(\"European Put Price under Heston: \", round(heston_put_mc(S, strikes[3], 0.055, 3/12, 0),2))"
   ]
  },
  {
   "cell_type": "code",
   "execution_count": 92,
   "metadata": {
    "colab": {
     "base_uri": "https://localhost:8080/",
     "height": 0
    },
    "executionInfo": {
     "elapsed": 242,
     "status": "ok",
     "timestamp": 1693949164342,
     "user": {
      "displayName": "Alessio Incelli",
      "userId": "09767466605209185024"
     },
     "user_tz": -120
    },
    "id": "OgK2g5VLPA0S",
    "outputId": "ac0bacf3-d323-4269-8ce7-416bb6261afa"
   },
   "outputs": [
    {
     "name": "stdout",
     "output_type": "stream",
     "text": [
      "European Put Price under Heston:  1.37\n"
     ]
    }
   ],
   "source": [
    "np.random.seed(2)\n",
    "print(\"European Put Price under Heston: \", round(heston_put_mc(S, strikes[4], 0.055, 3/12, 0),2))"
   ]
  },
  {
   "cell_type": "code",
   "execution_count": 93,
   "metadata": {
    "colab": {
     "base_uri": "https://localhost:8080/",
     "height": 0
    },
    "executionInfo": {
     "elapsed": 458,
     "status": "ok",
     "timestamp": 1693949170184,
     "user": {
      "displayName": "Alessio Incelli",
      "userId": "09767466605209185024"
     },
     "user_tz": -120
    },
    "id": "6bMSoLpQPArq",
    "outputId": "e6656c0b-3e48-4868-e2a2-f5585109eace"
   },
   "outputs": [
    {
     "name": "stdout",
     "output_type": "stream",
     "text": [
      "European Put Price under Heston:  0.64\n"
     ]
    }
   ],
   "source": [
    "np.random.seed(2)\n",
    "print(\"European Put Price under Heston: \", round(heston_put_mc(S, strikes[5], 0.055, 3/12, 0),2))"
   ]
  },
  {
   "cell_type": "code",
   "execution_count": 94,
   "metadata": {
    "colab": {
     "base_uri": "https://localhost:8080/",
     "height": 0
    },
    "executionInfo": {
     "elapsed": 387,
     "status": "ok",
     "timestamp": 1693949176417,
     "user": {
      "displayName": "Alessio Incelli",
      "userId": "09767466605209185024"
     },
     "user_tz": -120
    },
    "id": "SEEJiXqqPAhA",
    "outputId": "6c8092ff-c7be-4bb0-dd52-7d3d85703a51"
   },
   "outputs": [
    {
     "name": "stdout",
     "output_type": "stream",
     "text": [
      "European Put Price under Heston:  0.29\n"
     ]
    }
   ],
   "source": [
    "np.random.seed(2)\n",
    "print(\"European Put Price under Heston: \", round(heston_put_mc(S, strikes[6], 0.055, 3/12, 0),2))"
   ]
  },
  {
   "cell_type": "markdown",
   "metadata": {
    "id": "yrwEeRfhPYTM"
   },
   "source": [
    "MERTON"
   ]
  },
  {
   "cell_type": "code",
   "execution_count": 95,
   "metadata": {
    "executionInfo": {
     "elapsed": 618,
     "status": "ok",
     "timestamp": 1693949241520,
     "user": {
      "displayName": "Alessio Incelli",
      "userId": "09767466605209185024"
     },
     "user_tz": -120
    },
    "id": "adIadU4pPfK-"
   },
   "outputs": [],
   "source": [
    "np.random.seed(2)\n",
    "lamb = 0.75  # Lambda of the model\n",
    "mu = -0.5  # Mu\n",
    "delta = 0.22  # Delta\n",
    "\n",
    "r = 0.055  # Risk-free rate\n",
    "sigma = 0.35  # Volatility\n",
    "T = 3/12  # Maturity/time period (in years)\n",
    "S0 = 80  # Current Stock Price\n",
    "\n",
    "Ite = 100000  # Number of simulations (paths)\n",
    "M0 = 252  # Number of time steps in a year (we decided to go for daily time steps)\n",
    "M = int(M0 * T)  # Total time steps\n",
    "dt = T / M  # Time-step\n",
    "\n",
    "SM = np.zeros((M + 1, Ite))\n",
    "SM[0] = S0\n",
    "\n",
    "# rj\n",
    "rj = lamb * (np.exp(mu + 0.5 * delta**2) - 1)\n",
    "\n",
    "# Random numbers\n",
    "z1 = np.random.standard_normal((M + 1, Ite))\n",
    "z2 = np.random.standard_normal((M + 1, Ite))\n",
    "y = np.random.poisson(lamb * dt, (M + 1, Ite))\n",
    "\n",
    "for t in range(1, M + 1):\n",
    "    SM[t] = SM[t - 1] * (\n",
    "        np.exp((r - rj - 0.5 * sigma**2) * dt + sigma * np.sqrt(dt) * z1[t])\n",
    "        + (np.exp(mu + delta * z2[t]) - 1) * y[t]\n",
    "    )\n",
    "    SM[t] = np.maximum(\n",
    "        SM[t], 0.00001\n",
    "    )  # To ensure that the price never goes below zero!"
   ]
  },
  {
   "cell_type": "markdown",
   "metadata": {
    "id": "6dgM2jIePmpc"
   },
   "source": [
    "CALLS"
   ]
  },
  {
   "cell_type": "code",
   "execution_count": 96,
   "metadata": {
    "colab": {
     "base_uri": "https://localhost:8080/",
     "height": 0
    },
    "executionInfo": {
     "elapsed": 277,
     "status": "ok",
     "timestamp": 1693949270234,
     "user": {
      "displayName": "Alessio Incelli",
      "userId": "09767466605209185024"
     },
     "user_tz": -120
    },
    "id": "Fp2OBUjOPglL",
    "outputId": "db12b51e-8fc7-4c62-9eaf-9f321d0d54ea"
   },
   "outputs": [
    {
     "name": "stdout",
     "output_type": "stream",
     "text": [
      "European Call Price under Merton:  2.77\n"
     ]
    }
   ],
   "source": [
    "print(\"European Call Price under Merton: \", round(merton_call_mc(SM, strikes[0], r, T, 0),2))"
   ]
  },
  {
   "cell_type": "code",
   "execution_count": 97,
   "metadata": {
    "colab": {
     "base_uri": "https://localhost:8080/",
     "height": 0
    },
    "executionInfo": {
     "elapsed": 419,
     "status": "ok",
     "timestamp": 1693949283373,
     "user": {
      "displayName": "Alessio Incelli",
      "userId": "09767466605209185024"
     },
     "user_tz": -120
    },
    "id": "v2-nOkmrPrMl",
    "outputId": "a8458ee0-2217-4851-a7a2-87c04a730a60"
   },
   "outputs": [
    {
     "name": "stdout",
     "output_type": "stream",
     "text": [
      "European Call Price under Merton:  4.31\n"
     ]
    }
   ],
   "source": [
    "print(\"European Call Price under Merton: \", round(merton_call_mc(SM, strikes[1], r, T, 0),2))"
   ]
  },
  {
   "cell_type": "code",
   "execution_count": 98,
   "metadata": {
    "colab": {
     "base_uri": "https://localhost:8080/",
     "height": 0
    },
    "executionInfo": {
     "elapsed": 3,
     "status": "ok",
     "timestamp": 1693949289397,
     "user": {
      "displayName": "Alessio Incelli",
      "userId": "09767466605209185024"
     },
     "user_tz": -120
    },
    "id": "IXnCtUuWPrF2",
    "outputId": "7ac6a283-5d5c-4768-c2b5-6cf8aec8a80e"
   },
   "outputs": [
    {
     "name": "stdout",
     "output_type": "stream",
     "text": [
      "European Call Price under Merton:  6.17\n"
     ]
    }
   ],
   "source": [
    "print(\"European Call Price under Merton: \", round(merton_call_mc(SM, strikes[2], r, T, 0),2))"
   ]
  },
  {
   "cell_type": "code",
   "execution_count": 99,
   "metadata": {
    "colab": {
     "base_uri": "https://localhost:8080/",
     "height": 0
    },
    "executionInfo": {
     "elapsed": 411,
     "status": "ok",
     "timestamp": 1693949295761,
     "user": {
      "displayName": "Alessio Incelli",
      "userId": "09767466605209185024"
     },
     "user_tz": -120
    },
    "id": "VYjmSocHPq9y",
    "outputId": "62997b02-537e-4d7b-baab-a94545e8dad0"
   },
   "outputs": [
    {
     "name": "stdout",
     "output_type": "stream",
     "text": [
      "European Call Price under Merton:  8.26\n"
     ]
    }
   ],
   "source": [
    "print(\"European Call Price under Merton: \", round(merton_call_mc(SM, strikes[3], r, T, 0),2))"
   ]
  },
  {
   "cell_type": "code",
   "execution_count": 115,
   "metadata": {
    "colab": {
     "base_uri": "https://localhost:8080/"
    },
    "executionInfo": {
     "elapsed": 397,
     "status": "ok",
     "timestamp": 1693951115490,
     "user": {
      "displayName": "Alessio Incelli",
      "userId": "09767466605209185024"
     },
     "user_tz": -120
    },
    "id": "MH_9a84QPq2j",
    "outputId": "0bcc05fb-76ea-49c5-ec17-f74d856fdf37"
   },
   "outputs": [
    {
     "name": "stdout",
     "output_type": "stream",
     "text": [
      "European Call Price under Merton:  10.5\n"
     ]
    }
   ],
   "source": [
    "print(\"European Call Price under Merton: \", round(merton_call_mc(SM, strikes[4], r, T, 0),2))"
   ]
  },
  {
   "cell_type": "code",
   "execution_count": 100,
   "metadata": {
    "colab": {
     "base_uri": "https://localhost:8080/",
     "height": 0
    },
    "executionInfo": {
     "elapsed": 475,
     "status": "ok",
     "timestamp": 1693949306308,
     "user": {
      "displayName": "Alessio Incelli",
      "userId": "09767466605209185024"
     },
     "user_tz": -120
    },
    "id": "A-Fxy447Pqu3",
    "outputId": "4563eafd-1013-422f-e4f7-14528c0e67f5"
   },
   "outputs": [
    {
     "name": "stdout",
     "output_type": "stream",
     "text": [
      "European Call Price under Merton:  12.79\n"
     ]
    }
   ],
   "source": [
    "print(\"European Call Price under Merton: \", round(merton_call_mc(SM, strikes[5], r, T, 0),2))"
   ]
  },
  {
   "cell_type": "code",
   "execution_count": 101,
   "metadata": {
    "colab": {
     "base_uri": "https://localhost:8080/",
     "height": 0
    },
    "executionInfo": {
     "elapsed": 2,
     "status": "ok",
     "timestamp": 1693949311948,
     "user": {
      "displayName": "Alessio Incelli",
      "userId": "09767466605209185024"
     },
     "user_tz": -120
    },
    "id": "vm2PYGhbPqnY",
    "outputId": "de8c2306-8b78-4cb1-f56f-8df0c92b3d8a"
   },
   "outputs": [
    {
     "name": "stdout",
     "output_type": "stream",
     "text": [
      "European Call Price under Merton:  15.08\n"
     ]
    }
   ],
   "source": [
    "print(\"European Call Price under Merton: \", round(merton_call_mc(SM, strikes[6], r, T, 0),2))"
   ]
  },
  {
   "cell_type": "markdown",
   "metadata": {
    "id": "EPpPg6g6P0AD"
   },
   "source": [
    "PUTS"
   ]
  },
  {
   "cell_type": "code",
   "execution_count": 102,
   "metadata": {
    "colab": {
     "base_uri": "https://localhost:8080/",
     "height": 0
    },
    "executionInfo": {
     "elapsed": 452,
     "status": "ok",
     "timestamp": 1693949343811,
     "user": {
      "displayName": "Alessio Incelli",
      "userId": "09767466605209185024"
     },
     "user_tz": -120
    },
    "id": "v-eGVWjZP00D",
    "outputId": "23a443ba-5a8b-400d-cc3e-a7b04ee3e24f"
   },
   "outputs": [
    {
     "name": "stdout",
     "output_type": "stream",
     "text": [
      "European Put Price under Merton:  15.62\n"
     ]
    }
   ],
   "source": [
    "print(\"European Put Price under Merton: \", round(merton_put_mc(SM, strikes[0], r, T, 0),2))"
   ]
  },
  {
   "cell_type": "code",
   "execution_count": 103,
   "metadata": {
    "colab": {
     "base_uri": "https://localhost:8080/",
     "height": 0
    },
    "executionInfo": {
     "elapsed": 6,
     "status": "ok",
     "timestamp": 1693949351251,
     "user": {
      "displayName": "Alessio Incelli",
      "userId": "09767466605209185024"
     },
     "user_tz": -120
    },
    "id": "M2x9yG9DP1y4",
    "outputId": "467200af-a6bc-43eb-abce-72f921c9f18f"
   },
   "outputs": [
    {
     "name": "stdout",
     "output_type": "stream",
     "text": [
      "European Put Price under Merton:  12.0\n"
     ]
    }
   ],
   "source": [
    "print(\"European Put Price under Merton: \", round(merton_put_mc(SM, strikes[1], r, T, 0),2))"
   ]
  },
  {
   "cell_type": "code",
   "execution_count": 104,
   "metadata": {
    "colab": {
     "base_uri": "https://localhost:8080/",
     "height": 0
    },
    "executionInfo": {
     "elapsed": 386,
     "status": "ok",
     "timestamp": 1693949357536,
     "user": {
      "displayName": "Alessio Incelli",
      "userId": "09767466605209185024"
     },
     "user_tz": -120
    },
    "id": "ygWza7MGP1tE",
    "outputId": "15103198-9aea-43b2-a395-bed76598fe8f"
   },
   "outputs": [
    {
     "name": "stdout",
     "output_type": "stream",
     "text": [
      "European Put Price under Merton:  9.25\n"
     ]
    }
   ],
   "source": [
    "print(\"European Put Price under Merton: \", round(merton_put_mc(SM, strikes[2], r, T, 0),2))"
   ]
  },
  {
   "cell_type": "code",
   "execution_count": 105,
   "metadata": {
    "colab": {
     "base_uri": "https://localhost:8080/",
     "height": 0
    },
    "executionInfo": {
     "elapsed": 2,
     "status": "ok",
     "timestamp": 1693949363774,
     "user": {
      "displayName": "Alessio Incelli",
      "userId": "09767466605209185024"
     },
     "user_tz": -120
    },
    "id": "-lMtQGPXP1mL",
    "outputId": "b1cc2352-b300-46e3-914b-1ad9bee4f602"
   },
   "outputs": [
    {
     "name": "stdout",
     "output_type": "stream",
     "text": [
      "European Put Price under Merton:  7.19\n"
     ]
    }
   ],
   "source": [
    "print(\"European Put Price under Merton: \", round(merton_put_mc(SM, strikes[3], r, T, 0),2))"
   ]
  },
  {
   "cell_type": "code",
   "execution_count": 106,
   "metadata": {
    "colab": {
     "base_uri": "https://localhost:8080/",
     "height": 0
    },
    "executionInfo": {
     "elapsed": 371,
     "status": "ok",
     "timestamp": 1693949369311,
     "user": {
      "displayName": "Alessio Incelli",
      "userId": "09767466605209185024"
     },
     "user_tz": -120
    },
    "id": "blSDNdUbP1e6",
    "outputId": "a1cf6c1b-8796-4296-9748-4314c64e584e"
   },
   "outputs": [
    {
     "name": "stdout",
     "output_type": "stream",
     "text": [
      "European Put Price under Merton:  5.67\n"
     ]
    }
   ],
   "source": [
    "print(\"European Put Price under Merton: \", round(merton_put_mc(SM, strikes[4], r, T, 0),2))"
   ]
  },
  {
   "cell_type": "code",
   "execution_count": 107,
   "metadata": {
    "colab": {
     "base_uri": "https://localhost:8080/",
     "height": 0
    },
    "executionInfo": {
     "elapsed": 401,
     "status": "ok",
     "timestamp": 1693949374736,
     "user": {
      "displayName": "Alessio Incelli",
      "userId": "09767466605209185024"
     },
     "user_tz": -120
    },
    "id": "vdyDXU6MP1Xk",
    "outputId": "a58e8cd8-8e5c-4eed-828c-027639c77acc"
   },
   "outputs": [
    {
     "name": "stdout",
     "output_type": "stream",
     "text": [
      "European Put Price under Merton:  4.55\n"
     ]
    }
   ],
   "source": [
    "print(\"European Put Price under Merton: \", round(merton_put_mc(SM, strikes[5], r, T, 0),2))"
   ]
  },
  {
   "cell_type": "code",
   "execution_count": 108,
   "metadata": {
    "colab": {
     "base_uri": "https://localhost:8080/",
     "height": 0
    },
    "executionInfo": {
     "elapsed": 5,
     "status": "ok",
     "timestamp": 1693949380067,
     "user": {
      "displayName": "Alessio Incelli",
      "userId": "09767466605209185024"
     },
     "user_tz": -120
    },
    "id": "4DiOvj4-P1K4",
    "outputId": "eecf8a88-cc2e-4b9c-e7bd-3b40c870c596"
   },
   "outputs": [
    {
     "name": "stdout",
     "output_type": "stream",
     "text": [
      "European Put Price under Merton:  3.71\n"
     ]
    }
   ],
   "source": [
    "print(\"European Put Price under Merton: \", round(merton_put_mc(SM, strikes[6], r, T, 0),2))"
   ]
  },
  {
   "cell_type": "markdown",
   "metadata": {
    "id": "fbid-RCG3kfJ"
   },
   "source": [
    "# Step 2"
   ]
  },
  {
   "cell_type": "markdown",
   "metadata": {
    "id": "D8UqSsZg3nPC"
   },
   "source": [
    "### 13"
   ]
  },
  {
   "cell_type": "code",
   "execution_count": 112,
   "metadata": {
    "colab": {
     "base_uri": "https://localhost:8080/",
     "height": 0
    },
    "executionInfo": {
     "elapsed": 1311,
     "status": "ok",
     "timestamp": 1693949476293,
     "user": {
      "displayName": "Alessio Incelli",
      "userId": "09767466605209185024"
     },
     "user_tz": -120
    },
    "id": "SfQeHRCZplC9",
    "outputId": "722b245a-8bcb-4c62-9b06-bbdde9c33e8c"
   },
   "outputs": [
    {
     "name": "stderr",
     "output_type": "stream",
     "text": [
      "<ipython-input-112-d4a58b1a5dd5>:49: DeprecationWarning: `np.float` is a deprecated alias for the builtin `float`. To silence this warning, use `float` by itself. Doing this will not modify any behavior and is safe. If you specifically wanted the numpy scalar type, use `np.float64` here.\n",
      "Deprecated in NumPy 1.20; for more details and guidance: https://numpy.org/devdocs/release/1.20.0-notes.html#deprecations\n",
      "  covariance_matrix = np.zeros((2, 2), dtype=np.float)\n",
      "<ipython-input-112-d4a58b1a5dd5>:3: DeprecationWarning: `np.float` is a deprecated alias for the builtin `float`. To silence this warning, use `float` by itself. Doing this will not modify any behavior and is safe. If you specifically wanted the numpy scalar type, use `np.float64` here.\n",
      "Deprecated in NumPy 1.20; for more details and guidance: https://numpy.org/devdocs/release/1.20.0-notes.html#deprecations\n",
      "  v = np.zeros((M + 1, Ite), dtype=np.float)\n"
     ]
    },
    {
     "name": "stdout",
     "output_type": "stream",
     "text": [
      "American Call Price under Heston:  5.15\n"
     ]
    }
   ],
   "source": [
    "def SDE_vol(v0, kappa, theta, sigma, T, M, Ite, rand, row, cho_matrix):\n",
    "    dt = T / M  # T = maturity, M = number of time steps\n",
    "    v = np.zeros((M + 1, Ite), dtype=np.float)\n",
    "    v[0] = v0\n",
    "    sdt = np.sqrt(dt)  # Sqrt of dt\n",
    "    for t in range(1, M + 1):\n",
    "        ran = np.dot(cho_matrix, rand[:, t])\n",
    "        v[t] = np.maximum(\n",
    "            0,\n",
    "            v[t - 1]\n",
    "            + kappa * (theta - v[t - 1]) * dt\n",
    "            + np.sqrt(v[t - 1]) * sigma * ran[row] * sdt,\n",
    "        )\n",
    "    return v\n",
    "\n",
    "def Heston_paths(S0, r, v, row, cho_matrix):\n",
    "    S = np.zeros((M + 1, Ite), dtype=float)\n",
    "    S[0] = S0\n",
    "    sdt = np.sqrt(dt)\n",
    "    for t in range(1, M + 1, 1):\n",
    "        ran = np.dot(cho_matrix, rand[:, t])\n",
    "        S[t] = S[t - 1] * np.exp((r - 0.5 * v[t]) * dt + np.sqrt(v[t]) * ran[row] * sdt)\n",
    "\n",
    "    return S\n",
    "\n",
    "def random_number_gen(M, Ite):\n",
    "    rand = np.random.standard_normal((2, M + 1, Ite))\n",
    "    return rand\n",
    "np.random.seed(2)\n",
    "v0 = 0.032\n",
    "kappa_v = 1.85\n",
    "sigma_v = 0.35\n",
    "theta_v = 0.045\n",
    "rho = -0.3\n",
    "\n",
    "S0 = 80  # Current underlying asset price\n",
    "r = 0.055  # Risk-free rate\n",
    "M0 = 252  # Number of time steps in a year (we decided to go for daily time steps)\n",
    "T = 3/12  # Number of years\n",
    "M = int(M0 * T)  # Total time steps\n",
    "Ite = 100000  # Number of simulations\n",
    "dt = T / M  # Length of time step\n",
    "\n",
    "# Generating random numbers from standard normal\n",
    "rand = random_number_gen(M, Ite)\n",
    "\n",
    "\n",
    "# Covariance Matrix\n",
    "covariance_matrix = np.zeros((2, 2), dtype=np.float)\n",
    "covariance_matrix[0] = [1.0, rho]\n",
    "covariance_matrix[1] = [rho, 1.0]\n",
    "cho_matrix = np.linalg.cholesky(covariance_matrix)\n",
    "\n",
    "# Volatility process paths\n",
    "V = SDE_vol(v0, kappa_v, theta_v, sigma_v, T, M, Ite, rand, 1, cho_matrix)\n",
    "\n",
    "# Underlying price process paths\n",
    "S = Heston_paths(S0, r, V, 0, cho_matrix)\n",
    "\n",
    "def heston_call_american(S, K, r, T, t, n_steps):\n",
    "\n",
    "    payoff = np.maximum(S.T - K, 0)\n",
    "\n",
    "    option_value = payoff[:, -1]\n",
    "\n",
    "    for i in range(n_steps-1, -1, -1):\n",
    "        discount_factor = np.exp(-r * dt)\n",
    "        option_value = np.maximum(payoff[:, i], option_value * discount_factor)\n",
    "\n",
    "    average = np.mean(option_value)\n",
    "\n",
    "\n",
    "    return average\n",
    "\n",
    "print(\"American Call Price under Heston: \", round(heston_call_american(S, 80, r, T, 0, M),2))"
   ]
  },
  {
   "cell_type": "markdown",
   "metadata": {
    "id": "dSmLM2gGQ1W9"
   },
   "source": [
    "The European Call price found under Heston in Question 5 was 2.86, while under the same model the American Call price stands at 5.15. This makes sense, given that the American call price should be higher than or equal to the European call price but never lower, due to the higher cost to be paid for the early exercise feature."
   ]
  },
  {
   "cell_type": "code",
   "execution_count": 113,
   "metadata": {
    "colab": {
     "base_uri": "https://localhost:8080/",
     "height": 0
    },
    "executionInfo": {
     "elapsed": 1591,
     "status": "ok",
     "timestamp": 1693949490224,
     "user": {
      "displayName": "Alessio Incelli",
      "userId": "09767466605209185024"
     },
     "user_tz": -120
    },
    "id": "Bunhfj5z3oU-",
    "outputId": "b2576f8a-1fd0-4e50-bb22-083384e758d7"
   },
   "outputs": [
    {
     "name": "stdout",
     "output_type": "stream",
     "text": [
      "American Call Price under Merton:  13.88\n"
     ]
    }
   ],
   "source": [
    "import matplotlib.pyplot as plt\n",
    "import numpy as np\n",
    "import scipy.stats as ss\n",
    "np.random.seed(2)\n",
    "lamb = 0.75  # Lambda of the model\n",
    "mu = -0.5  # Mu\n",
    "delta = 0.22  # Delta\n",
    "\n",
    "r = 0.055  # Risk-free rate\n",
    "sigma = 0.35  # Volatility\n",
    "T = 3/12  # Maturity/time period (in years)\n",
    "S0 = 80  # Current Stock Price\n",
    "\n",
    "Ite = 100000  # Number of simulations (paths)\n",
    "M0 = 252  # Number of time steps in a year (we decided to go for daily time steps)\n",
    "M = int(M0 * T)  # Total time steps\n",
    "dt = T / M  # Time-step\n",
    "\n",
    "SM = np.zeros((M + 1, Ite))\n",
    "SM[0] = S0\n",
    "\n",
    "# rj\n",
    "rj = lamb * (np.exp(mu + 0.5 * delta**2) - 1)\n",
    "\n",
    "# Random numbers\n",
    "z1 = np.random.standard_normal((M + 1, Ite))\n",
    "z2 = np.random.standard_normal((M + 1, Ite))\n",
    "y = np.random.poisson(lamb * dt, (M + 1, Ite))\n",
    "\n",
    "for t in range(1, M + 1):\n",
    "    SM[t] = SM[t - 1] * (\n",
    "        np.exp((r - rj - 0.5 * sigma**2) * dt + sigma * np.sqrt(dt) * z1[t])\n",
    "        + (np.exp(mu + delta * z2[t]) - 1) * y[t]\n",
    "    )\n",
    "    SM[t] = np.maximum(\n",
    "        SM[t], 0.00001\n",
    "    )  # To ensure that the price never goes below zero!\n",
    "\n",
    "def merton_call_american(S, K, r, T, t, n_steps):\n",
    "\n",
    "    payoff = np.maximum(S.T - K, 0)\n",
    "\n",
    "    option_value = payoff[:, -1]\n",
    "\n",
    "    for i in range(n_steps-1, -1, -1):\n",
    "        discount_factor = np.exp(-r * dt)\n",
    "        option_value = np.maximum(payoff[:, i], option_value * discount_factor)\n",
    "\n",
    "    average = np.mean(option_value)\n",
    "\n",
    "\n",
    "    return average\n",
    "\n",
    "print(\"American Call Price under Merton: \", round(merton_call_american(SM, 80, r, T, 0, M),2))"
   ]
  },
  {
   "cell_type": "markdown",
   "metadata": {
    "id": "0ALGRcInRP4s"
   },
   "source": [
    "The European Call price found under Merton in Question 8 was 8.26, while under the same model the American Call price stands at 13.88. This makes sense, given that the American call price should be higher than or equal to the European call price but never lower, due to the higher cost to be paid for the early exercise feature."
   ]
  },
  {
   "cell_type": "markdown",
   "metadata": {
    "id": "tddoR_Ga3onS"
   },
   "source": [
    "### 14"
   ]
  },
  {
   "cell_type": "code",
   "execution_count": null,
   "metadata": {
    "colab": {
     "base_uri": "https://localhost:8080/"
    },
    "executionInfo": {
     "elapsed": 1520,
     "status": "ok",
     "timestamp": 1693944798527,
     "user": {
      "displayName": "Alberto Mameli",
      "userId": "07616004484567234507"
     },
     "user_tz": -120
    },
    "id": "qUhEpexB3vJ5",
    "outputId": "d9af9288-6416-4d87-ca59-3be14473924e"
   },
   "outputs": [
    {
     "name": "stderr",
     "output_type": "stream",
     "text": [
      "<ipython-input-43-484ddf8710fa>:19: DeprecationWarning: `np.float` is a deprecated alias for the builtin `float`. To silence this warning, use `float` by itself. Doing this will not modify any behavior and is safe. If you specifically wanted the numpy scalar type, use `np.float64` here.\n",
      "Deprecated in NumPy 1.20; for more details and guidance: https://numpy.org/devdocs/release/1.20.0-notes.html#deprecations\n",
      "  covariance_matrix = np.zeros((2, 2), dtype=np.float)\n",
      "<ipython-input-33-62c3d9e7d8d3>:3: DeprecationWarning: `np.float` is a deprecated alias for the builtin `float`. To silence this warning, use `float` by itself. Doing this will not modify any behavior and is safe. If you specifically wanted the numpy scalar type, use `np.float64` here.\n",
      "Deprecated in NumPy 1.20; for more details and guidance: https://numpy.org/devdocs/release/1.20.0-notes.html#deprecations\n",
      "  v = np.zeros((M + 1, Ite), dtype=np.float)\n"
     ]
    },
    {
     "name": "stdout",
     "output_type": "stream",
     "text": [
      "UAI European Call Price under Heston:  0.01\n"
     ]
    }
   ],
   "source": [
    "v0 = 0.032\n",
    "kappa_v = 1.85\n",
    "sigma_v = 0.35\n",
    "theta_v = 0.045\n",
    "rho = -0.7\n",
    "\n",
    "S0 = 80  # Current underlying asset price\n",
    "r = 0.055  # Risk-free rate\n",
    "M0 = 252  # Number of time steps in a year (we decided to go for daily time steps)\n",
    "T = 3/12  # Number of years\n",
    "M = int(M0 * T)  # Total time steps\n",
    "Ite = 100000  # Number of simulations\n",
    "dt = T / M  # Length of time step\n",
    "\n",
    "# Generating random numbers from standard normal\n",
    "rand = random_number_gen(M, Ite)\n",
    "\n",
    "# Covariance Matrix\n",
    "covariance_matrix = np.zeros((2, 2), dtype=np.float)\n",
    "covariance_matrix[0] = [1.0, rho]\n",
    "covariance_matrix[1] = [rho, 1.0]\n",
    "cho_matrix = np.linalg.cholesky(covariance_matrix)\n",
    "\n",
    "# Volatility process paths\n",
    "V = SDE_vol(v0, kappa_v, theta_v, sigma_v, T, M, Ite, rand, 1, cho_matrix)\n",
    "\n",
    "# Underlying price process paths\n",
    "S = Heston_paths(S0, r, V, 0, cho_matrix)\n",
    "\n",
    "def heston_call_mc_with_barrier(S, K, r, T, t, barrier_level):\n",
    "    # Check if the barrier is crossed during the simulation\n",
    "    barrier_crossed = np.any(S > barrier_level, axis=0)\n",
    "\n",
    "    # Calculate the payoff based on barrier crossing\n",
    "    payoff = np.where(barrier_crossed, np.maximum(0, S[-1, :] - K), 0)\n",
    "\n",
    "    average = np.mean(payoff)\n",
    "\n",
    "    return np.exp(-r * (T - t)) * average\n",
    "\n",
    "\n",
    "np.random.seed(2)\n",
    "print(\"UAI European Call Price under Heston: \", round(heston_call_mc_with_barrier(S, 95, 0.055, 3/12, 0, 95),2))\n",
    "\n"
   ]
  },
  {
   "cell_type": "markdown",
   "metadata": {
    "id": "lpImNZCpSTNF"
   },
   "source": [
    "The European Call price found under Heston in Question 6 was 2.11, while under the same model data the UAI European Call price stands at 0.01. This makes sense, given that the UAI European Call option becomes alive only if the stock price reaches the barrier level, so it has less probability to pay off, leaving aside the fact that becomes active only under certain conditions. On the other hand, the simple european call option is always alive, thus gives us more possibilities to pay off. That is why the European call price should be higher than UAI European call price and this is exactly the case."
   ]
  },
  {
   "cell_type": "markdown",
   "metadata": {
    "id": "OQJZC_523vlP"
   },
   "source": [
    "### 15"
   ]
  },
  {
   "cell_type": "code",
   "execution_count": 114,
   "metadata": {
    "colab": {
     "base_uri": "https://localhost:8080/",
     "height": 0
    },
    "executionInfo": {
     "elapsed": 1183,
     "status": "ok",
     "timestamp": 1693950221431,
     "user": {
      "displayName": "Alessio Incelli",
      "userId": "09767466605209185024"
     },
     "user_tz": -120
    },
    "id": "TkW0HVPO3wmD",
    "outputId": "f0deaf09-4da2-4899-c9e6-03df8ba91c51"
   },
   "outputs": [
    {
     "name": "stdout",
     "output_type": "stream",
     "text": [
      "DAI European Call Price under Merton:  2.76\n"
     ]
    }
   ],
   "source": [
    "import matplotlib.pyplot as plt\n",
    "import numpy as np\n",
    "import scipy.stats as ss\n",
    "\n",
    "np.random.seed(2)\n",
    "lamb = 0.75  # Lambda of the model\n",
    "mu = -0.5  # Mu\n",
    "delta = 0.22  # Delta\n",
    "\n",
    "r = 0.055  # Risk-free rate\n",
    "sigma = 0.35  # Volatility\n",
    "T = 3/12  # Maturity/time period (in years)\n",
    "S0 = 80  # Current Stock Price\n",
    "\n",
    "Ite = 100000  # Number of simulations (paths)\n",
    "M0 = 252  # Number of time steps in a year (we decided to go for daily time steps)\n",
    "M = int(M0 * T)  # Total time steps\n",
    "dt = T / M  # Time-step\n",
    "\n",
    "SM = np.zeros((M + 1, Ite))\n",
    "SM[0] = S0\n",
    "\n",
    "# rj\n",
    "rj = lamb * (np.exp(mu + 0.5 * delta**2) - 1)\n",
    "\n",
    "# Random numbers\n",
    "z1 = np.random.standard_normal((M + 1, Ite))\n",
    "z2 = np.random.standard_normal((M + 1, Ite))\n",
    "y = np.random.poisson(lamb * dt, (M + 1, Ite))\n",
    "\n",
    "for t in range(1, M + 1):\n",
    "    SM[t] = SM[t - 1] * (\n",
    "        np.exp((r - rj - 0.5 * sigma**2) * dt + sigma * np.sqrt(dt) * z1[t])\n",
    "        + (np.exp(mu + delta * z2[t]) - 1) * y[t]\n",
    "    )\n",
    "    SM[t] = np.maximum(\n",
    "        SM[t], 0.00001\n",
    "    )  # To ensure that the price never goes below zero!\n",
    "\n",
    "\n",
    "def merton_put_mc_with_barrier(S, K, r, T, t, barrier_level):\n",
    "    # Check if the barrier is crossed during the simulation\n",
    "    barrier_crossed = np.any(S < barrier_level, axis=0)\n",
    "\n",
    "    # Calculate the payoff based on barrier crossing\n",
    "    payoff = np.where(barrier_crossed, np.maximum(0, K - S[-1, :]), 0)\n",
    "\n",
    "    average = np.mean(payoff)\n",
    "\n",
    "    return np.exp(-r * (T - t)) * average\n",
    "\n",
    "\n",
    "print(\"DAI European Call Price under Merton: \", round(merton_put_mc_with_barrier(SM, 65, r, T, 0, 65),2))"
   ]
  },
  {
   "cell_type": "markdown",
   "metadata": {
    "id": "N8Q86nXGTeaM"
   },
   "source": [
    "The European Call price found under Merton in Question 8 was 8.26, while under the same model data the DAI European Call price stands at 2.76. This makes sense, for the same reasons explained in point 14."
   ]
  }
 ],
 "metadata": {
  "colab": {
   "provenance": []
  },
  "kernelspec": {
   "display_name": "Python 3 (ipykernel)",
   "language": "python",
   "name": "python3"
  },
  "language_info": {
   "codemirror_mode": {
    "name": "ipython",
    "version": 3
   },
   "file_extension": ".py",
   "mimetype": "text/x-python",
   "name": "python",
   "nbconvert_exporter": "python",
   "pygments_lexer": "ipython3",
   "version": "3.9.12"
  }
 },
 "nbformat": 4,
 "nbformat_minor": 1
}
